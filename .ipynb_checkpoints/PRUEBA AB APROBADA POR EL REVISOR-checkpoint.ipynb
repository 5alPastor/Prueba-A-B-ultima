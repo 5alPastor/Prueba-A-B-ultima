{
 "cells": [
  {
   "cell_type": "markdown",
   "id": "c96f7159",
   "metadata": {},
   "source": [
    "# ¡Feliz Navidad a toda LATAM! 🎄✨\n",
    "\n",
    "Soy **Hesus Garcia** – tu revisor de confianza y ahora también el **Hesus que trae la magia navideña al código** 🎅🦸‍♂️. Sí, soy el único Hesus con H que viene cargado de observaciones, sugerencias y buenos deseos para ayudarte a mejorar tu proyecto en estas fechas tan especiales. 🎁\n",
    "\n",
    "Quiero aprovechar esta oportunidad para desearte a ti y a toda nuestra increíble comunidad de estudiantes en Latinoamérica unas fiestas llenas de alegría, aprendizaje y nuevos logros. 🌟 ¡Que esta Navidad esté llena de código limpio, proyectos exitosos y muchos \"outputs\" perfectos! 🚀\n",
    "\n",
    "Cada vez que encuentre un detalle importante en tu código, te lo señalaré con la intención de que puedas corregirlo y brilles en tu camino profesional. Recuerda que estos comentarios no son más que regalos disfrazados, pensados para ayudarte a crecer y mejorar. 🎁 Si alguna vez te encuentras con un problema que no logras resolver, no te preocupes; estaré aquí para guiarte.\n",
    "\n",
    "Es importante que cuando encuentres un comentario, **no los muevas, no los modifiques, ni los borres**. Estos son como los adornos de un árbol de Navidad 🎄; cada uno está puesto en su lugar por una razón. \n",
    "\n",
    "---\n",
    "\n",
    "### **Formato de Comentarios**\n",
    "\n",
    "Revisaré cuidadosamente cada implementación en tu notebook para asegurar que cumpla con los requisitos y te daré comentarios de acuerdo al siguiente formato:\n",
    "\n",
    "---\n",
    "\n",
    "<div class=\"alert alert-block alert-success\">\n",
    "<b>Comentario del revisor</b> <a class=\"tocSkip\"></a><br>\n",
    "    \n",
    "<b>Éxito</b> - ¡Excelente trabajo! Esta parte está bien implementada y contribuye significativamente al análisis de datos o al proyecto. Continúa aplicando estas buenas prácticas en futuras secciones. 🎉\n",
    "    \n",
    "</div>\n",
    "\n",
    "<div class=\"alert alert-block alert-warning\">\n",
    "<b>Comentario del revisor</b> <a class=\"tocSkip\"></a><br>\n",
    "    \n",
    "<b>Atención</b> ⚠️ - Este código está correcto, pero se puede optimizar. Considera implementar mejoras para que sea más eficiente y fácil de leer. Esto fortalecerá la calidad de tu proyecto. 🔧\n",
    "    \n",
    "</div>\n",
    "\n",
    "<div class=\"alert alert-block alert-danger\">\n",
    "<b>Comentario del revisor</b> <a class=\"tocSkip\"></a><br>\n",
    "    \n",
    "<b>A resolver</b> ❗ - Aquí hay un problema o error en el código que es necesario corregir para aprobar esta sección. Por favor, revisa y corrige este punto, ya que es fundamental para la validez del análisis y la precisión de los resultados. 🚨\n",
    "    \n",
    "</div>\n",
    "\n",
    "---\n",
    "\n",
    "Al final de cada revisión, recibirás un **Comentario General del Revisor**, como un resumen festivo de los aspectos positivos y áreas para mejorar en tu proyecto. Esto incluirá:\n",
    "\n",
    "- **Aspectos positivos:** Un resumen de los puntos fuertes de tu proyecto. 🎯\n",
    "- **Áreas de mejora:** Sugerencias donde puedes mejorar. 🔍\n",
    "- **Temas adicionales para investigar:** Ideas opcionales para expandir tus habilidades. 🌱\n",
    "\n",
    "---\n",
    "\n",
    "Espero que este espíritu navideño te motive a seguir adelante y que este proyecto sea uno de muchos logros en tu camino. ¡Felicidades por tu dedicación y esfuerzo! 💪🎅✨\n",
    "\n",
    "### ¡Empecemos con esta revisión navideña! 🎄🚀"
   ]
  },
  {
   "cell_type": "markdown",
   "id": "3213d3ad",
   "metadata": {},
   "source": [
    "# Prueba A/B para una tienda internacional."
   ]
  },
  {
   "cell_type": "markdown",
   "id": "1ede181d",
   "metadata": {},
   "source": [
    "En esta prueba A/B para una tienda donde analizaremos los resultados relacionados con la introduccion de un sistema de recomendaciones mejorado con un grupo de control (A) y  un grupo de prueba que usará el nuevo embudo de pago (B). Tenemos previsto 6000 participantes. \n",
    "\n",
    "Lo que esperamos de esta prueba A/B es que dentro de los 14 días posteriores a la inscripción, los usuarios mejoren estas métricas o eventos:\n",
    "\n",
    "- Una mejor conversión en vistas de la página del producto (el evento product_page).\n",
    "- Instancias de agregar artículos al carrito de compras (product_cart)\n",
    "- Compras (purchase)\n",
    "- Al menos un 10% de mejora en cada etapa de este embudo (product_page → product_cart → purchase)."
   ]
  },
  {
   "cell_type": "markdown",
   "id": "61965005",
   "metadata": {},
   "source": [
    "# Descripción de los sets\n",
    "\n",
    "Contaremos con 4 sets de datos que contienen estas columnas:\n",
    "    \n",
    "1. ab_project__marketing_events_us.csv:\n",
    "\n",
    "* name — el nombre del evento de marketing\n",
    "* regions — regiones donde se llevará a cabo la campaña publicitaria\n",
    "* start_dt — fecha de inicio de la campaña\n",
    "* finish_dt — fecha de finalización de la campaña\n",
    "\n",
    "2. final_ab_new_users_upd_us.csv:\n",
    "\n",
    "* user_id\n",
    "* first_date — fecha de inscripción\n",
    "* region\n",
    "* device — dispositivo utilizado para la inscripción\n",
    "\n",
    "3. final_ab_events_upd_us.csv:\n",
    "\n",
    "* user_id\n",
    "* event_dt — fecha y hora del evento\n",
    "* event_name — nombre del tipo de evento\n",
    "* details — datos adicionales sobre el evento (por ejemplo, el pedido total en USD para los eventos purchase)\n",
    "\n",
    "4. final_ab_participants_upd_us.csv:\n",
    "\n",
    "* user_id\n",
    "* ab_test — nombre de la prueba\n",
    "* group — el grupo de prueba al que pertenecía el usuario"
   ]
  },
  {
   "cell_type": "code",
   "execution_count": 1,
   "id": "243246c5",
   "metadata": {},
   "outputs": [],
   "source": [
    "# Importar librerías y sets de datos necesarios"
   ]
  },
  {
   "cell_type": "code",
   "execution_count": 2,
   "id": "9e0dc1c4",
   "metadata": {},
   "outputs": [],
   "source": [
    "import pandas as pd\n",
    "import numpy as np\n",
    "import matplotlib.pyplot as plt\n",
    "import math as mth\n",
    "from scipy import stats as st\n",
    "import scipy.stats as stats\n",
    "from statsmodels.stats.proportion import proportions_ztest"
   ]
  },
  {
   "cell_type": "code",
   "execution_count": 3,
   "id": "b146b5c6",
   "metadata": {},
   "outputs": [
    {
     "data": {
      "text/html": [
       "<div>\n",
       "<style scoped>\n",
       "    .dataframe tbody tr th:only-of-type {\n",
       "        vertical-align: middle;\n",
       "    }\n",
       "\n",
       "    .dataframe tbody tr th {\n",
       "        vertical-align: top;\n",
       "    }\n",
       "\n",
       "    .dataframe thead th {\n",
       "        text-align: right;\n",
       "    }\n",
       "</style>\n",
       "<table border=\"1\" class=\"dataframe\">\n",
       "  <thead>\n",
       "    <tr style=\"text-align: right;\">\n",
       "      <th></th>\n",
       "      <th>name</th>\n",
       "      <th>regions</th>\n",
       "      <th>start_dt</th>\n",
       "      <th>finish_dt</th>\n",
       "    </tr>\n",
       "  </thead>\n",
       "  <tbody>\n",
       "    <tr>\n",
       "      <th>0</th>\n",
       "      <td>Christmas&amp;New Year Promo</td>\n",
       "      <td>EU, N.America</td>\n",
       "      <td>2020-12-25</td>\n",
       "      <td>2021-01-03</td>\n",
       "    </tr>\n",
       "    <tr>\n",
       "      <th>1</th>\n",
       "      <td>St. Valentine's Day Giveaway</td>\n",
       "      <td>EU, CIS, APAC, N.America</td>\n",
       "      <td>2020-02-14</td>\n",
       "      <td>2020-02-16</td>\n",
       "    </tr>\n",
       "    <tr>\n",
       "      <th>2</th>\n",
       "      <td>St. Patric's Day Promo</td>\n",
       "      <td>EU, N.America</td>\n",
       "      <td>2020-03-17</td>\n",
       "      <td>2020-03-19</td>\n",
       "    </tr>\n",
       "    <tr>\n",
       "      <th>3</th>\n",
       "      <td>Easter Promo</td>\n",
       "      <td>EU, CIS, APAC, N.America</td>\n",
       "      <td>2020-04-12</td>\n",
       "      <td>2020-04-19</td>\n",
       "    </tr>\n",
       "    <tr>\n",
       "      <th>4</th>\n",
       "      <td>4th of July Promo</td>\n",
       "      <td>N.America</td>\n",
       "      <td>2020-07-04</td>\n",
       "      <td>2020-07-11</td>\n",
       "    </tr>\n",
       "    <tr>\n",
       "      <th>5</th>\n",
       "      <td>Black Friday Ads Campaign</td>\n",
       "      <td>EU, CIS, APAC, N.America</td>\n",
       "      <td>2020-11-26</td>\n",
       "      <td>2020-12-01</td>\n",
       "    </tr>\n",
       "    <tr>\n",
       "      <th>6</th>\n",
       "      <td>Chinese New Year Promo</td>\n",
       "      <td>APAC</td>\n",
       "      <td>2020-01-25</td>\n",
       "      <td>2020-02-07</td>\n",
       "    </tr>\n",
       "    <tr>\n",
       "      <th>7</th>\n",
       "      <td>Labor day (May 1st) Ads Campaign</td>\n",
       "      <td>EU, CIS, APAC</td>\n",
       "      <td>2020-05-01</td>\n",
       "      <td>2020-05-03</td>\n",
       "    </tr>\n",
       "    <tr>\n",
       "      <th>8</th>\n",
       "      <td>International Women's Day Promo</td>\n",
       "      <td>EU, CIS, APAC</td>\n",
       "      <td>2020-03-08</td>\n",
       "      <td>2020-03-10</td>\n",
       "    </tr>\n",
       "    <tr>\n",
       "      <th>9</th>\n",
       "      <td>Victory Day CIS (May 9th) Event</td>\n",
       "      <td>CIS</td>\n",
       "      <td>2020-05-09</td>\n",
       "      <td>2020-05-11</td>\n",
       "    </tr>\n",
       "    <tr>\n",
       "      <th>10</th>\n",
       "      <td>CIS New Year Gift Lottery</td>\n",
       "      <td>CIS</td>\n",
       "      <td>2020-12-30</td>\n",
       "      <td>2021-01-07</td>\n",
       "    </tr>\n",
       "    <tr>\n",
       "      <th>11</th>\n",
       "      <td>Dragon Boat Festival Giveaway</td>\n",
       "      <td>APAC</td>\n",
       "      <td>2020-06-25</td>\n",
       "      <td>2020-07-01</td>\n",
       "    </tr>\n",
       "    <tr>\n",
       "      <th>12</th>\n",
       "      <td>Single's Day Gift Promo</td>\n",
       "      <td>APAC</td>\n",
       "      <td>2020-11-11</td>\n",
       "      <td>2020-11-12</td>\n",
       "    </tr>\n",
       "    <tr>\n",
       "      <th>13</th>\n",
       "      <td>Chinese Moon Festival</td>\n",
       "      <td>APAC</td>\n",
       "      <td>2020-10-01</td>\n",
       "      <td>2020-10-07</td>\n",
       "    </tr>\n",
       "  </tbody>\n",
       "</table>\n",
       "</div>"
      ],
      "text/plain": [
       "                                name                   regions    start_dt  \\\n",
       "0           Christmas&New Year Promo             EU, N.America  2020-12-25   \n",
       "1       St. Valentine's Day Giveaway  EU, CIS, APAC, N.America  2020-02-14   \n",
       "2             St. Patric's Day Promo             EU, N.America  2020-03-17   \n",
       "3                       Easter Promo  EU, CIS, APAC, N.America  2020-04-12   \n",
       "4                  4th of July Promo                 N.America  2020-07-04   \n",
       "5          Black Friday Ads Campaign  EU, CIS, APAC, N.America  2020-11-26   \n",
       "6             Chinese New Year Promo                      APAC  2020-01-25   \n",
       "7   Labor day (May 1st) Ads Campaign             EU, CIS, APAC  2020-05-01   \n",
       "8    International Women's Day Promo             EU, CIS, APAC  2020-03-08   \n",
       "9    Victory Day CIS (May 9th) Event                       CIS  2020-05-09   \n",
       "10         CIS New Year Gift Lottery                       CIS  2020-12-30   \n",
       "11     Dragon Boat Festival Giveaway                      APAC  2020-06-25   \n",
       "12           Single's Day Gift Promo                      APAC  2020-11-11   \n",
       "13             Chinese Moon Festival                      APAC  2020-10-01   \n",
       "\n",
       "     finish_dt  \n",
       "0   2021-01-03  \n",
       "1   2020-02-16  \n",
       "2   2020-03-19  \n",
       "3   2020-04-19  \n",
       "4   2020-07-11  \n",
       "5   2020-12-01  \n",
       "6   2020-02-07  \n",
       "7   2020-05-03  \n",
       "8   2020-03-10  \n",
       "9   2020-05-11  \n",
       "10  2021-01-07  \n",
       "11  2020-07-01  \n",
       "12  2020-11-12  \n",
       "13  2020-10-07  "
      ]
     },
     "execution_count": 3,
     "metadata": {},
     "output_type": "execute_result"
    }
   ],
   "source": [
    "first_events_data = pd.read_csv('/datasets/ab_project_marketing_events_us.csv')\n",
    "first_events_data"
   ]
  },
  {
   "cell_type": "markdown",
   "id": "75dc380c",
   "metadata": {},
   "source": [
    "<div class=\"alert alert-block alert-success\"> <b>Comentario del revisor</b> <a class=\"tocSkip\"></a><br> <b>Éxito</b> - Excelente trabajo al importar las librerías y los conjuntos de datos necesarios de manera clara y organizada. Además, muestras los primeros pasos para explorar cada dataset. ¡Muy bien hecho! 🚀 </div>"
   ]
  },
  {
   "cell_type": "code",
   "execution_count": 4,
   "id": "7c7849d6",
   "metadata": {},
   "outputs": [
    {
     "data": {
      "text/html": [
       "<div>\n",
       "<style scoped>\n",
       "    .dataframe tbody tr th:only-of-type {\n",
       "        vertical-align: middle;\n",
       "    }\n",
       "\n",
       "    .dataframe tbody tr th {\n",
       "        vertical-align: top;\n",
       "    }\n",
       "\n",
       "    .dataframe thead th {\n",
       "        text-align: right;\n",
       "    }\n",
       "</style>\n",
       "<table border=\"1\" class=\"dataframe\">\n",
       "  <thead>\n",
       "    <tr style=\"text-align: right;\">\n",
       "      <th></th>\n",
       "      <th>user_id</th>\n",
       "      <th>first_date</th>\n",
       "      <th>region</th>\n",
       "      <th>device</th>\n",
       "    </tr>\n",
       "  </thead>\n",
       "  <tbody>\n",
       "    <tr>\n",
       "      <th>0</th>\n",
       "      <td>D72A72121175D8BE</td>\n",
       "      <td>2020-12-07</td>\n",
       "      <td>EU</td>\n",
       "      <td>PC</td>\n",
       "    </tr>\n",
       "    <tr>\n",
       "      <th>1</th>\n",
       "      <td>F1C668619DFE6E65</td>\n",
       "      <td>2020-12-07</td>\n",
       "      <td>N.America</td>\n",
       "      <td>Android</td>\n",
       "    </tr>\n",
       "    <tr>\n",
       "      <th>2</th>\n",
       "      <td>2E1BF1D4C37EA01F</td>\n",
       "      <td>2020-12-07</td>\n",
       "      <td>EU</td>\n",
       "      <td>PC</td>\n",
       "    </tr>\n",
       "    <tr>\n",
       "      <th>3</th>\n",
       "      <td>50734A22C0C63768</td>\n",
       "      <td>2020-12-07</td>\n",
       "      <td>EU</td>\n",
       "      <td>iPhone</td>\n",
       "    </tr>\n",
       "    <tr>\n",
       "      <th>4</th>\n",
       "      <td>E1BDDCE0DAFA2679</td>\n",
       "      <td>2020-12-07</td>\n",
       "      <td>N.America</td>\n",
       "      <td>iPhone</td>\n",
       "    </tr>\n",
       "    <tr>\n",
       "      <th>...</th>\n",
       "      <td>...</td>\n",
       "      <td>...</td>\n",
       "      <td>...</td>\n",
       "      <td>...</td>\n",
       "    </tr>\n",
       "    <tr>\n",
       "      <th>58698</th>\n",
       "      <td>1DB53B933257165D</td>\n",
       "      <td>2020-12-20</td>\n",
       "      <td>EU</td>\n",
       "      <td>Android</td>\n",
       "    </tr>\n",
       "    <tr>\n",
       "      <th>58699</th>\n",
       "      <td>538643EB4527ED03</td>\n",
       "      <td>2020-12-20</td>\n",
       "      <td>EU</td>\n",
       "      <td>Mac</td>\n",
       "    </tr>\n",
       "    <tr>\n",
       "      <th>58700</th>\n",
       "      <td>7ADEE837D5D8CBBD</td>\n",
       "      <td>2020-12-20</td>\n",
       "      <td>EU</td>\n",
       "      <td>PC</td>\n",
       "    </tr>\n",
       "    <tr>\n",
       "      <th>58701</th>\n",
       "      <td>1C7D23927835213F</td>\n",
       "      <td>2020-12-20</td>\n",
       "      <td>EU</td>\n",
       "      <td>iPhone</td>\n",
       "    </tr>\n",
       "    <tr>\n",
       "      <th>58702</th>\n",
       "      <td>8F04273BB2860229</td>\n",
       "      <td>2020-12-20</td>\n",
       "      <td>EU</td>\n",
       "      <td>Android</td>\n",
       "    </tr>\n",
       "  </tbody>\n",
       "</table>\n",
       "<p>58703 rows × 4 columns</p>\n",
       "</div>"
      ],
      "text/plain": [
       "                user_id  first_date     region   device\n",
       "0      D72A72121175D8BE  2020-12-07         EU       PC\n",
       "1      F1C668619DFE6E65  2020-12-07  N.America  Android\n",
       "2      2E1BF1D4C37EA01F  2020-12-07         EU       PC\n",
       "3      50734A22C0C63768  2020-12-07         EU   iPhone\n",
       "4      E1BDDCE0DAFA2679  2020-12-07  N.America   iPhone\n",
       "...                 ...         ...        ...      ...\n",
       "58698  1DB53B933257165D  2020-12-20         EU  Android\n",
       "58699  538643EB4527ED03  2020-12-20         EU      Mac\n",
       "58700  7ADEE837D5D8CBBD  2020-12-20         EU       PC\n",
       "58701  1C7D23927835213F  2020-12-20         EU   iPhone\n",
       "58702  8F04273BB2860229  2020-12-20         EU  Android\n",
       "\n",
       "[58703 rows x 4 columns]"
      ]
     },
     "execution_count": 4,
     "metadata": {},
     "output_type": "execute_result"
    }
   ],
   "source": [
    "users_data = pd.read_csv('/datasets/final_ab_new_users_upd_us.csv')\n",
    "users_data"
   ]
  },
  {
   "cell_type": "code",
   "execution_count": 5,
   "id": "ea1047d2",
   "metadata": {},
   "outputs": [
    {
     "data": {
      "text/html": [
       "<div>\n",
       "<style scoped>\n",
       "    .dataframe tbody tr th:only-of-type {\n",
       "        vertical-align: middle;\n",
       "    }\n",
       "\n",
       "    .dataframe tbody tr th {\n",
       "        vertical-align: top;\n",
       "    }\n",
       "\n",
       "    .dataframe thead th {\n",
       "        text-align: right;\n",
       "    }\n",
       "</style>\n",
       "<table border=\"1\" class=\"dataframe\">\n",
       "  <thead>\n",
       "    <tr style=\"text-align: right;\">\n",
       "      <th></th>\n",
       "      <th>user_id</th>\n",
       "      <th>event_dt</th>\n",
       "      <th>event_name</th>\n",
       "      <th>details</th>\n",
       "    </tr>\n",
       "  </thead>\n",
       "  <tbody>\n",
       "    <tr>\n",
       "      <th>0</th>\n",
       "      <td>E1BDDCE0DAFA2679</td>\n",
       "      <td>2020-12-07 20:22:03</td>\n",
       "      <td>purchase</td>\n",
       "      <td>99.99</td>\n",
       "    </tr>\n",
       "    <tr>\n",
       "      <th>1</th>\n",
       "      <td>7B6452F081F49504</td>\n",
       "      <td>2020-12-07 09:22:53</td>\n",
       "      <td>purchase</td>\n",
       "      <td>9.99</td>\n",
       "    </tr>\n",
       "    <tr>\n",
       "      <th>2</th>\n",
       "      <td>9CD9F34546DF254C</td>\n",
       "      <td>2020-12-07 12:59:29</td>\n",
       "      <td>purchase</td>\n",
       "      <td>4.99</td>\n",
       "    </tr>\n",
       "    <tr>\n",
       "      <th>3</th>\n",
       "      <td>96F27A054B191457</td>\n",
       "      <td>2020-12-07 04:02:40</td>\n",
       "      <td>purchase</td>\n",
       "      <td>4.99</td>\n",
       "    </tr>\n",
       "    <tr>\n",
       "      <th>4</th>\n",
       "      <td>1FD7660FDF94CA1F</td>\n",
       "      <td>2020-12-07 10:15:09</td>\n",
       "      <td>purchase</td>\n",
       "      <td>4.99</td>\n",
       "    </tr>\n",
       "    <tr>\n",
       "      <th>...</th>\n",
       "      <td>...</td>\n",
       "      <td>...</td>\n",
       "      <td>...</td>\n",
       "      <td>...</td>\n",
       "    </tr>\n",
       "    <tr>\n",
       "      <th>423756</th>\n",
       "      <td>245E85F65C358E08</td>\n",
       "      <td>2020-12-30 19:35:55</td>\n",
       "      <td>login</td>\n",
       "      <td>NaN</td>\n",
       "    </tr>\n",
       "    <tr>\n",
       "      <th>423757</th>\n",
       "      <td>9385A108F5A0A7A7</td>\n",
       "      <td>2020-12-30 10:54:15</td>\n",
       "      <td>login</td>\n",
       "      <td>NaN</td>\n",
       "    </tr>\n",
       "    <tr>\n",
       "      <th>423758</th>\n",
       "      <td>DB650B7559AC6EAC</td>\n",
       "      <td>2020-12-30 10:59:09</td>\n",
       "      <td>login</td>\n",
       "      <td>NaN</td>\n",
       "    </tr>\n",
       "    <tr>\n",
       "      <th>423759</th>\n",
       "      <td>F80C9BDDEA02E53C</td>\n",
       "      <td>2020-12-30 09:53:39</td>\n",
       "      <td>login</td>\n",
       "      <td>NaN</td>\n",
       "    </tr>\n",
       "    <tr>\n",
       "      <th>423760</th>\n",
       "      <td>7AEC61159B672CC5</td>\n",
       "      <td>2020-12-30 11:36:13</td>\n",
       "      <td>login</td>\n",
       "      <td>NaN</td>\n",
       "    </tr>\n",
       "  </tbody>\n",
       "</table>\n",
       "<p>423761 rows × 4 columns</p>\n",
       "</div>"
      ],
      "text/plain": [
       "                 user_id             event_dt event_name  details\n",
       "0       E1BDDCE0DAFA2679  2020-12-07 20:22:03   purchase    99.99\n",
       "1       7B6452F081F49504  2020-12-07 09:22:53   purchase     9.99\n",
       "2       9CD9F34546DF254C  2020-12-07 12:59:29   purchase     4.99\n",
       "3       96F27A054B191457  2020-12-07 04:02:40   purchase     4.99\n",
       "4       1FD7660FDF94CA1F  2020-12-07 10:15:09   purchase     4.99\n",
       "...                  ...                  ...        ...      ...\n",
       "423756  245E85F65C358E08  2020-12-30 19:35:55      login      NaN\n",
       "423757  9385A108F5A0A7A7  2020-12-30 10:54:15      login      NaN\n",
       "423758  DB650B7559AC6EAC  2020-12-30 10:59:09      login      NaN\n",
       "423759  F80C9BDDEA02E53C  2020-12-30 09:53:39      login      NaN\n",
       "423760  7AEC61159B672CC5  2020-12-30 11:36:13      login      NaN\n",
       "\n",
       "[423761 rows x 4 columns]"
      ]
     },
     "execution_count": 5,
     "metadata": {},
     "output_type": "execute_result"
    }
   ],
   "source": [
    "events_data = pd.read_csv('/datasets/final_ab_events_upd_us.csv')\n",
    "events_data"
   ]
  },
  {
   "cell_type": "code",
   "execution_count": 6,
   "id": "e1d9af70",
   "metadata": {},
   "outputs": [
    {
     "data": {
      "text/html": [
       "<div>\n",
       "<style scoped>\n",
       "    .dataframe tbody tr th:only-of-type {\n",
       "        vertical-align: middle;\n",
       "    }\n",
       "\n",
       "    .dataframe tbody tr th {\n",
       "        vertical-align: top;\n",
       "    }\n",
       "\n",
       "    .dataframe thead th {\n",
       "        text-align: right;\n",
       "    }\n",
       "</style>\n",
       "<table border=\"1\" class=\"dataframe\">\n",
       "  <thead>\n",
       "    <tr style=\"text-align: right;\">\n",
       "      <th></th>\n",
       "      <th>user_id</th>\n",
       "      <th>group</th>\n",
       "      <th>ab_test</th>\n",
       "    </tr>\n",
       "  </thead>\n",
       "  <tbody>\n",
       "    <tr>\n",
       "      <th>0</th>\n",
       "      <td>D1ABA3E2887B6A73</td>\n",
       "      <td>A</td>\n",
       "      <td>recommender_system_test</td>\n",
       "    </tr>\n",
       "    <tr>\n",
       "      <th>1</th>\n",
       "      <td>A7A3664BD6242119</td>\n",
       "      <td>A</td>\n",
       "      <td>recommender_system_test</td>\n",
       "    </tr>\n",
       "    <tr>\n",
       "      <th>2</th>\n",
       "      <td>DABC14FDDFADD29E</td>\n",
       "      <td>A</td>\n",
       "      <td>recommender_system_test</td>\n",
       "    </tr>\n",
       "    <tr>\n",
       "      <th>3</th>\n",
       "      <td>04988C5DF189632E</td>\n",
       "      <td>A</td>\n",
       "      <td>recommender_system_test</td>\n",
       "    </tr>\n",
       "    <tr>\n",
       "      <th>4</th>\n",
       "      <td>4FF2998A348C484F</td>\n",
       "      <td>A</td>\n",
       "      <td>recommender_system_test</td>\n",
       "    </tr>\n",
       "    <tr>\n",
       "      <th>...</th>\n",
       "      <td>...</td>\n",
       "      <td>...</td>\n",
       "      <td>...</td>\n",
       "    </tr>\n",
       "    <tr>\n",
       "      <th>14520</th>\n",
       "      <td>1D302F8688B91781</td>\n",
       "      <td>B</td>\n",
       "      <td>interface_eu_test</td>\n",
       "    </tr>\n",
       "    <tr>\n",
       "      <th>14521</th>\n",
       "      <td>3DE51B726983B657</td>\n",
       "      <td>A</td>\n",
       "      <td>interface_eu_test</td>\n",
       "    </tr>\n",
       "    <tr>\n",
       "      <th>14522</th>\n",
       "      <td>F501F79D332BE86C</td>\n",
       "      <td>A</td>\n",
       "      <td>interface_eu_test</td>\n",
       "    </tr>\n",
       "    <tr>\n",
       "      <th>14523</th>\n",
       "      <td>63FBE257B05F2245</td>\n",
       "      <td>A</td>\n",
       "      <td>interface_eu_test</td>\n",
       "    </tr>\n",
       "    <tr>\n",
       "      <th>14524</th>\n",
       "      <td>79F9ABFB029CF724</td>\n",
       "      <td>B</td>\n",
       "      <td>interface_eu_test</td>\n",
       "    </tr>\n",
       "  </tbody>\n",
       "</table>\n",
       "<p>14525 rows × 3 columns</p>\n",
       "</div>"
      ],
      "text/plain": [
       "                user_id group                  ab_test\n",
       "0      D1ABA3E2887B6A73     A  recommender_system_test\n",
       "1      A7A3664BD6242119     A  recommender_system_test\n",
       "2      DABC14FDDFADD29E     A  recommender_system_test\n",
       "3      04988C5DF189632E     A  recommender_system_test\n",
       "4      4FF2998A348C484F     A  recommender_system_test\n",
       "...                 ...   ...                      ...\n",
       "14520  1D302F8688B91781     B        interface_eu_test\n",
       "14521  3DE51B726983B657     A        interface_eu_test\n",
       "14522  F501F79D332BE86C     A        interface_eu_test\n",
       "14523  63FBE257B05F2245     A        interface_eu_test\n",
       "14524  79F9ABFB029CF724     B        interface_eu_test\n",
       "\n",
       "[14525 rows x 3 columns]"
      ]
     },
     "execution_count": 6,
     "metadata": {},
     "output_type": "execute_result"
    }
   ],
   "source": [
    "test_data = pd.read_csv('/datasets/final_ab_participants_upd_us.csv')\n",
    "test_data"
   ]
  },
  {
   "cell_type": "markdown",
   "id": "1dca5fe2",
   "metadata": {},
   "source": [
    "# Exploración inicial de los datos"
   ]
  },
  {
   "cell_type": "markdown",
   "id": "2f749555",
   "metadata": {},
   "source": [
    "**Exploración y cambios para el set de datos first_events_data**"
   ]
  },
  {
   "cell_type": "code",
   "execution_count": 7,
   "id": "44d3c636",
   "metadata": {},
   "outputs": [
    {
     "name": "stdout",
     "output_type": "stream",
     "text": [
      "<class 'pandas.core.frame.DataFrame'>\n",
      "RangeIndex: 14 entries, 0 to 13\n",
      "Data columns (total 4 columns):\n",
      " #   Column     Non-Null Count  Dtype \n",
      "---  ------     --------------  ----- \n",
      " 0   name       14 non-null     object\n",
      " 1   regions    14 non-null     object\n",
      " 2   start_dt   14 non-null     object\n",
      " 3   finish_dt  14 non-null     object\n",
      "dtypes: object(4)\n",
      "memory usage: 580.0+ bytes\n"
     ]
    }
   ],
   "source": [
    "first_events_data.info()"
   ]
  },
  {
   "cell_type": "markdown",
   "id": "d9d0c225",
   "metadata": {},
   "source": [
    "En este caso vemos que las columnas start_dt y finish_dt pueden ser cambiadas a formato datetime64 para un mejor manejo."
   ]
  },
  {
   "cell_type": "code",
   "execution_count": 8,
   "id": "ad68545c",
   "metadata": {},
   "outputs": [
    {
     "name": "stdout",
     "output_type": "stream",
     "text": [
      "<class 'pandas.core.frame.DataFrame'>\n",
      "RangeIndex: 14 entries, 0 to 13\n",
      "Data columns (total 4 columns):\n",
      " #   Column     Non-Null Count  Dtype         \n",
      "---  ------     --------------  -----         \n",
      " 0   name       14 non-null     object        \n",
      " 1   regions    14 non-null     object        \n",
      " 2   start_dt   14 non-null     datetime64[ns]\n",
      " 3   finish_dt  14 non-null     datetime64[ns]\n",
      "dtypes: datetime64[ns](2), object(2)\n",
      "memory usage: 580.0+ bytes\n"
     ]
    }
   ],
   "source": [
    "#haciendo el cambio de ambas columans a formato datetime\n",
    "first_events_data['start_dt'] = pd.to_datetime(first_events_data['start_dt'])\n",
    "first_events_data['finish_dt'] = pd.to_datetime(first_events_data['finish_dt'])\n",
    "first_events_data.info()"
   ]
  },
  {
   "cell_type": "code",
   "execution_count": 9,
   "id": "219d2bac",
   "metadata": {},
   "outputs": [
    {
     "data": {
      "text/plain": [
       "0"
      ]
     },
     "execution_count": 9,
     "metadata": {},
     "output_type": "execute_result"
    }
   ],
   "source": [
    "first_events_data.duplicated().sum()"
   ]
  },
  {
   "cell_type": "markdown",
   "id": "3a7d6013",
   "metadata": {},
   "source": [
    "**Exploración y cambios para el set de datos users_data**"
   ]
  },
  {
   "cell_type": "code",
   "execution_count": 10,
   "id": "03fa19ec",
   "metadata": {},
   "outputs": [
    {
     "name": "stdout",
     "output_type": "stream",
     "text": [
      "<class 'pandas.core.frame.DataFrame'>\n",
      "RangeIndex: 58703 entries, 0 to 58702\n",
      "Data columns (total 4 columns):\n",
      " #   Column      Non-Null Count  Dtype \n",
      "---  ------      --------------  ----- \n",
      " 0   user_id     58703 non-null  object\n",
      " 1   first_date  58703 non-null  object\n",
      " 2   region      58703 non-null  object\n",
      " 3   device      58703 non-null  object\n",
      "dtypes: object(4)\n",
      "memory usage: 1.8+ MB\n"
     ]
    }
   ],
   "source": [
    "users_data.info()"
   ]
  },
  {
   "cell_type": "markdown",
   "id": "800987b7",
   "metadata": {},
   "source": [
    "Encontramos que el set de datos users_data tiene la columna first_date que se puede cambiar a formato datetime para un manejo más sencillo."
   ]
  },
  {
   "cell_type": "code",
   "execution_count": 11,
   "id": "39611f59",
   "metadata": {},
   "outputs": [
    {
     "name": "stdout",
     "output_type": "stream",
     "text": [
      "<class 'pandas.core.frame.DataFrame'>\n",
      "RangeIndex: 58703 entries, 0 to 58702\n",
      "Data columns (total 4 columns):\n",
      " #   Column      Non-Null Count  Dtype         \n",
      "---  ------      --------------  -----         \n",
      " 0   user_id     58703 non-null  object        \n",
      " 1   first_date  58703 non-null  datetime64[ns]\n",
      " 2   region      58703 non-null  object        \n",
      " 3   device      58703 non-null  object        \n",
      "dtypes: datetime64[ns](1), object(3)\n",
      "memory usage: 1.8+ MB\n"
     ]
    }
   ],
   "source": [
    "#cambiando columna first_date a formato datetime\n",
    "users_data['first_date'] = pd.to_datetime(users_data['first_date'])\n",
    "users_data.info()"
   ]
  },
  {
   "cell_type": "code",
   "execution_count": 12,
   "id": "ee77da09",
   "metadata": {},
   "outputs": [
    {
     "data": {
      "text/plain": [
       "0"
      ]
     },
     "execution_count": 12,
     "metadata": {},
     "output_type": "execute_result"
    }
   ],
   "source": [
    "users_data.duplicated().sum()"
   ]
  },
  {
   "cell_type": "markdown",
   "id": "9addf09f",
   "metadata": {},
   "source": [
    "**Exploración y cambios para el set de datos events_data**"
   ]
  },
  {
   "cell_type": "code",
   "execution_count": 13,
   "id": "39266cf8",
   "metadata": {},
   "outputs": [
    {
     "name": "stdout",
     "output_type": "stream",
     "text": [
      "<class 'pandas.core.frame.DataFrame'>\n",
      "RangeIndex: 423761 entries, 0 to 423760\n",
      "Data columns (total 4 columns):\n",
      " #   Column      Non-Null Count   Dtype  \n",
      "---  ------      --------------   -----  \n",
      " 0   user_id     423761 non-null  object \n",
      " 1   event_dt    423761 non-null  object \n",
      " 2   event_name  423761 non-null  object \n",
      " 3   details     60314 non-null   float64\n",
      "dtypes: float64(1), object(3)\n",
      "memory usage: 12.9+ MB\n"
     ]
    }
   ],
   "source": [
    "events_data.info()"
   ]
  },
  {
   "cell_type": "markdown",
   "id": "51d418a6",
   "metadata": {},
   "source": [
    "La columna event_dt puede ser cambiada a tipo date_time para simplificar el analisis."
   ]
  },
  {
   "cell_type": "code",
   "execution_count": 14,
   "id": "b59b201a",
   "metadata": {},
   "outputs": [
    {
     "name": "stdout",
     "output_type": "stream",
     "text": [
      "<class 'pandas.core.frame.DataFrame'>\n",
      "RangeIndex: 423761 entries, 0 to 423760\n",
      "Data columns (total 4 columns):\n",
      " #   Column      Non-Null Count   Dtype         \n",
      "---  ------      --------------   -----         \n",
      " 0   user_id     423761 non-null  object        \n",
      " 1   event_dt    423761 non-null  datetime64[ns]\n",
      " 2   event_name  423761 non-null  object        \n",
      " 3   details     60314 non-null   float64       \n",
      "dtypes: datetime64[ns](1), float64(1), object(2)\n",
      "memory usage: 12.9+ MB\n"
     ]
    }
   ],
   "source": [
    "#haciendo el cambio de event_dt a tipo datetime\n",
    "events_data['event_dt'] = pd.to_datetime(events_data['event_dt'])\n",
    "events_data.info()"
   ]
  },
  {
   "cell_type": "code",
   "execution_count": 15,
   "id": "9f9a86b2",
   "metadata": {},
   "outputs": [
    {
     "data": {
      "text/plain": [
       "0"
      ]
     },
     "execution_count": 15,
     "metadata": {},
     "output_type": "execute_result"
    }
   ],
   "source": [
    "events_data.duplicated().sum()"
   ]
  },
  {
   "cell_type": "markdown",
   "id": "cc182d45",
   "metadata": {},
   "source": [
    "**Exploración y cambios para el set de datos test_data**"
   ]
  },
  {
   "cell_type": "code",
   "execution_count": 16,
   "id": "d7680906",
   "metadata": {},
   "outputs": [
    {
     "name": "stdout",
     "output_type": "stream",
     "text": [
      "<class 'pandas.core.frame.DataFrame'>\n",
      "RangeIndex: 14525 entries, 0 to 14524\n",
      "Data columns (total 3 columns):\n",
      " #   Column   Non-Null Count  Dtype \n",
      "---  ------   --------------  ----- \n",
      " 0   user_id  14525 non-null  object\n",
      " 1   group    14525 non-null  object\n",
      " 2   ab_test  14525 non-null  object\n",
      "dtypes: object(3)\n",
      "memory usage: 340.6+ KB\n"
     ]
    }
   ],
   "source": [
    "test_data.info()"
   ]
  },
  {
   "cell_type": "code",
   "execution_count": 17,
   "id": "a8d5c87b",
   "metadata": {},
   "outputs": [
    {
     "data": {
      "text/plain": [
       "0"
      ]
     },
     "execution_count": 17,
     "metadata": {},
     "output_type": "execute_result"
    }
   ],
   "source": [
    "test_data.duplicated().sum()"
   ]
  },
  {
   "cell_type": "markdown",
   "id": "0df9e15b",
   "metadata": {},
   "source": [
    "En este último set de datos no necesitamos hacer ningún cambio."
   ]
  },
  {
   "cell_type": "markdown",
   "id": "c23158f7",
   "metadata": {},
   "source": [
    "Hemos hecho cambios a formato datetime en las columnas que necesitaban este cambio, y no hemos encontrado ningún duplicado en ningún set de datos y únicamente se encontraron valores nulos en la columna details del set de datos events_data que contiene detalles adicionales sobre el evento."
   ]
  },
  {
   "cell_type": "markdown",
   "id": "7abf0b00",
   "metadata": {},
   "source": [
    "<div class=\"alert alert-block alert-success\"> <b>Comentario del revisor</b> <a class=\"tocSkip\"></a><br> <b>Éxito</b> - Realizaste una correcta conversión de columnas relevantes a formato `datetime`, lo que facilita futuros análisis. También verificaste duplicados de forma sistemática. Estos pasos reflejan una excelente comprensión de la limpieza de datos. ¡Buen trabajo! 👍 </div>"
   ]
  },
  {
   "cell_type": "markdown",
   "id": "226c061e",
   "metadata": {},
   "source": [
    "# Analisis exploratorio de datos"
   ]
  },
  {
   "cell_type": "code",
   "execution_count": 19,
   "id": "d9864b56",
   "metadata": {},
   "outputs": [],
   "source": [
    "#creando df con los usaurios que se encuentran en ambos grupos\n",
    "\n",
    "#users_to_remove = test_data[test_data['ab_test'].isin(['recommender_system_test', 'interface_eu_test'])].groupby('user_id').filter(lambda x: len(x) > 1)['user_id'].unique()\n",
    "\n",
    "# Eliminamos los usuarios del dataframe original\n",
    "#test_data = test_data[~test_data['user_id'].isin(users_to_remove)]\n",
    "\n",
    "# Mostramos el dataframe resultante\n",
    "#print(test_data)"
   ]
  },
  {
   "cell_type": "code",
   "execution_count": 20,
   "id": "74238d07",
   "metadata": {},
   "outputs": [
    {
     "data": {
      "text/html": [
       "<div>\n",
       "<style scoped>\n",
       "    .dataframe tbody tr th:only-of-type {\n",
       "        vertical-align: middle;\n",
       "    }\n",
       "\n",
       "    .dataframe tbody tr th {\n",
       "        vertical-align: top;\n",
       "    }\n",
       "\n",
       "    .dataframe thead th {\n",
       "        text-align: right;\n",
       "    }\n",
       "</style>\n",
       "<table border=\"1\" class=\"dataframe\">\n",
       "  <thead>\n",
       "    <tr style=\"text-align: right;\">\n",
       "      <th></th>\n",
       "      <th>user_id</th>\n",
       "      <th>group</th>\n",
       "      <th>ab_test</th>\n",
       "    </tr>\n",
       "  </thead>\n",
       "  <tbody>\n",
       "    <tr>\n",
       "      <th>0</th>\n",
       "      <td>D1ABA3E2887B6A73</td>\n",
       "      <td>A</td>\n",
       "      <td>recommender_system_test</td>\n",
       "    </tr>\n",
       "    <tr>\n",
       "      <th>1</th>\n",
       "      <td>A7A3664BD6242119</td>\n",
       "      <td>A</td>\n",
       "      <td>recommender_system_test</td>\n",
       "    </tr>\n",
       "    <tr>\n",
       "      <th>2</th>\n",
       "      <td>DABC14FDDFADD29E</td>\n",
       "      <td>A</td>\n",
       "      <td>recommender_system_test</td>\n",
       "    </tr>\n",
       "    <tr>\n",
       "      <th>3</th>\n",
       "      <td>04988C5DF189632E</td>\n",
       "      <td>A</td>\n",
       "      <td>recommender_system_test</td>\n",
       "    </tr>\n",
       "    <tr>\n",
       "      <th>4</th>\n",
       "      <td>4FF2998A348C484F</td>\n",
       "      <td>A</td>\n",
       "      <td>recommender_system_test</td>\n",
       "    </tr>\n",
       "    <tr>\n",
       "      <th>...</th>\n",
       "      <td>...</td>\n",
       "      <td>...</td>\n",
       "      <td>...</td>\n",
       "    </tr>\n",
       "    <tr>\n",
       "      <th>3670</th>\n",
       "      <td>053FB26D6D49EDDC</td>\n",
       "      <td>A</td>\n",
       "      <td>recommender_system_test</td>\n",
       "    </tr>\n",
       "    <tr>\n",
       "      <th>3671</th>\n",
       "      <td>9D263B8EF15CF188</td>\n",
       "      <td>B</td>\n",
       "      <td>recommender_system_test</td>\n",
       "    </tr>\n",
       "    <tr>\n",
       "      <th>3672</th>\n",
       "      <td>F2FBBA33F37DEC46</td>\n",
       "      <td>A</td>\n",
       "      <td>recommender_system_test</td>\n",
       "    </tr>\n",
       "    <tr>\n",
       "      <th>3673</th>\n",
       "      <td>29C92313A98B1176</td>\n",
       "      <td>B</td>\n",
       "      <td>recommender_system_test</td>\n",
       "    </tr>\n",
       "    <tr>\n",
       "      <th>3674</th>\n",
       "      <td>6715343AFBA285AE</td>\n",
       "      <td>B</td>\n",
       "      <td>recommender_system_test</td>\n",
       "    </tr>\n",
       "  </tbody>\n",
       "</table>\n",
       "<p>3675 rows × 3 columns</p>\n",
       "</div>"
      ],
      "text/plain": [
       "               user_id group                  ab_test\n",
       "0     D1ABA3E2887B6A73     A  recommender_system_test\n",
       "1     A7A3664BD6242119     A  recommender_system_test\n",
       "2     DABC14FDDFADD29E     A  recommender_system_test\n",
       "3     04988C5DF189632E     A  recommender_system_test\n",
       "4     4FF2998A348C484F     A  recommender_system_test\n",
       "...                ...   ...                      ...\n",
       "3670  053FB26D6D49EDDC     A  recommender_system_test\n",
       "3671  9D263B8EF15CF188     B  recommender_system_test\n",
       "3672  F2FBBA33F37DEC46     A  recommender_system_test\n",
       "3673  29C92313A98B1176     B  recommender_system_test\n",
       "3674  6715343AFBA285AE     B  recommender_system_test\n",
       "\n",
       "[3675 rows x 3 columns]"
      ]
     },
     "execution_count": 20,
     "metadata": {},
     "output_type": "execute_result"
    }
   ],
   "source": [
    "new_test_data = test_data.query('ab_test == \"recommender_system_test\"')\n",
    "new_test_data"
   ]
  },
  {
   "cell_type": "code",
   "execution_count": 21,
   "id": "6ef743d0",
   "metadata": {},
   "outputs": [
    {
     "data": {
      "text/html": [
       "<div>\n",
       "<style scoped>\n",
       "    .dataframe tbody tr th:only-of-type {\n",
       "        vertical-align: middle;\n",
       "    }\n",
       "\n",
       "    .dataframe tbody tr th {\n",
       "        vertical-align: top;\n",
       "    }\n",
       "\n",
       "    .dataframe thead th {\n",
       "        text-align: right;\n",
       "    }\n",
       "</style>\n",
       "<table border=\"1\" class=\"dataframe\">\n",
       "  <thead>\n",
       "    <tr style=\"text-align: right;\">\n",
       "      <th></th>\n",
       "      <th>user_id</th>\n",
       "      <th>group</th>\n",
       "      <th>ab_test</th>\n",
       "      <th>event_dt</th>\n",
       "      <th>event_name</th>\n",
       "      <th>details</th>\n",
       "    </tr>\n",
       "  </thead>\n",
       "  <tbody>\n",
       "    <tr>\n",
       "      <th>0</th>\n",
       "      <td>D1ABA3E2887B6A73</td>\n",
       "      <td>A</td>\n",
       "      <td>recommender_system_test</td>\n",
       "      <td>2020-12-07 14:43:27</td>\n",
       "      <td>purchase</td>\n",
       "      <td>99.99</td>\n",
       "    </tr>\n",
       "    <tr>\n",
       "      <th>1</th>\n",
       "      <td>D1ABA3E2887B6A73</td>\n",
       "      <td>A</td>\n",
       "      <td>recommender_system_test</td>\n",
       "      <td>2020-12-07 14:43:29</td>\n",
       "      <td>product_cart</td>\n",
       "      <td>NaN</td>\n",
       "    </tr>\n",
       "    <tr>\n",
       "      <th>2</th>\n",
       "      <td>D1ABA3E2887B6A73</td>\n",
       "      <td>A</td>\n",
       "      <td>recommender_system_test</td>\n",
       "      <td>2020-12-07 14:43:27</td>\n",
       "      <td>product_page</td>\n",
       "      <td>NaN</td>\n",
       "    </tr>\n",
       "    <tr>\n",
       "      <th>3</th>\n",
       "      <td>D1ABA3E2887B6A73</td>\n",
       "      <td>A</td>\n",
       "      <td>recommender_system_test</td>\n",
       "      <td>2020-12-07 14:43:27</td>\n",
       "      <td>login</td>\n",
       "      <td>NaN</td>\n",
       "    </tr>\n",
       "    <tr>\n",
       "      <th>4</th>\n",
       "      <td>A7A3664BD6242119</td>\n",
       "      <td>A</td>\n",
       "      <td>recommender_system_test</td>\n",
       "      <td>2020-12-20 15:46:06</td>\n",
       "      <td>product_page</td>\n",
       "      <td>NaN</td>\n",
       "    </tr>\n",
       "    <tr>\n",
       "      <th>...</th>\n",
       "      <td>...</td>\n",
       "      <td>...</td>\n",
       "      <td>...</td>\n",
       "      <td>...</td>\n",
       "      <td>...</td>\n",
       "      <td>...</td>\n",
       "    </tr>\n",
       "    <tr>\n",
       "      <th>23904</th>\n",
       "      <td>6715343AFBA285AE</td>\n",
       "      <td>B</td>\n",
       "      <td>recommender_system_test</td>\n",
       "      <td>2020-12-07 10:12:15</td>\n",
       "      <td>login</td>\n",
       "      <td>NaN</td>\n",
       "    </tr>\n",
       "    <tr>\n",
       "      <th>23905</th>\n",
       "      <td>6715343AFBA285AE</td>\n",
       "      <td>B</td>\n",
       "      <td>recommender_system_test</td>\n",
       "      <td>2020-12-08 22:51:16</td>\n",
       "      <td>login</td>\n",
       "      <td>NaN</td>\n",
       "    </tr>\n",
       "    <tr>\n",
       "      <th>23906</th>\n",
       "      <td>6715343AFBA285AE</td>\n",
       "      <td>B</td>\n",
       "      <td>recommender_system_test</td>\n",
       "      <td>2020-12-09 02:28:03</td>\n",
       "      <td>login</td>\n",
       "      <td>NaN</td>\n",
       "    </tr>\n",
       "    <tr>\n",
       "      <th>23907</th>\n",
       "      <td>6715343AFBA285AE</td>\n",
       "      <td>B</td>\n",
       "      <td>recommender_system_test</td>\n",
       "      <td>2020-12-10 22:55:14</td>\n",
       "      <td>login</td>\n",
       "      <td>NaN</td>\n",
       "    </tr>\n",
       "    <tr>\n",
       "      <th>23908</th>\n",
       "      <td>6715343AFBA285AE</td>\n",
       "      <td>B</td>\n",
       "      <td>recommender_system_test</td>\n",
       "      <td>2020-12-14 12:40:41</td>\n",
       "      <td>login</td>\n",
       "      <td>NaN</td>\n",
       "    </tr>\n",
       "  </tbody>\n",
       "</table>\n",
       "<p>23909 rows × 6 columns</p>\n",
       "</div>"
      ],
      "text/plain": [
       "                user_id group                  ab_test            event_dt  \\\n",
       "0      D1ABA3E2887B6A73     A  recommender_system_test 2020-12-07 14:43:27   \n",
       "1      D1ABA3E2887B6A73     A  recommender_system_test 2020-12-07 14:43:29   \n",
       "2      D1ABA3E2887B6A73     A  recommender_system_test 2020-12-07 14:43:27   \n",
       "3      D1ABA3E2887B6A73     A  recommender_system_test 2020-12-07 14:43:27   \n",
       "4      A7A3664BD6242119     A  recommender_system_test 2020-12-20 15:46:06   \n",
       "...                 ...   ...                      ...                 ...   \n",
       "23904  6715343AFBA285AE     B  recommender_system_test 2020-12-07 10:12:15   \n",
       "23905  6715343AFBA285AE     B  recommender_system_test 2020-12-08 22:51:16   \n",
       "23906  6715343AFBA285AE     B  recommender_system_test 2020-12-09 02:28:03   \n",
       "23907  6715343AFBA285AE     B  recommender_system_test 2020-12-10 22:55:14   \n",
       "23908  6715343AFBA285AE     B  recommender_system_test 2020-12-14 12:40:41   \n",
       "\n",
       "         event_name  details  \n",
       "0          purchase    99.99  \n",
       "1      product_cart      NaN  \n",
       "2      product_page      NaN  \n",
       "3             login      NaN  \n",
       "4      product_page      NaN  \n",
       "...             ...      ...  \n",
       "23904         login      NaN  \n",
       "23905         login      NaN  \n",
       "23906         login      NaN  \n",
       "23907         login      NaN  \n",
       "23908         login      NaN  \n",
       "\n",
       "[23909 rows x 6 columns]"
      ]
     },
     "execution_count": 21,
     "metadata": {},
     "output_type": "execute_result"
    }
   ],
   "source": [
    "new_test_data = new_test_data.merge(events_data, on='user_id', how='left')\n",
    "new_test_data"
   ]
  },
  {
   "cell_type": "code",
   "execution_count": 22,
   "id": "aefc18e1",
   "metadata": {},
   "outputs": [
    {
     "data": {
      "text/html": [
       "<div>\n",
       "<style scoped>\n",
       "    .dataframe tbody tr th:only-of-type {\n",
       "        vertical-align: middle;\n",
       "    }\n",
       "\n",
       "    .dataframe tbody tr th {\n",
       "        vertical-align: top;\n",
       "    }\n",
       "\n",
       "    .dataframe thead th {\n",
       "        text-align: right;\n",
       "    }\n",
       "</style>\n",
       "<table border=\"1\" class=\"dataframe\">\n",
       "  <thead>\n",
       "    <tr style=\"text-align: right;\">\n",
       "      <th></th>\n",
       "      <th>user_id</th>\n",
       "      <th>group</th>\n",
       "      <th>ab_test</th>\n",
       "      <th>event_dt</th>\n",
       "      <th>event_name</th>\n",
       "      <th>details</th>\n",
       "      <th>first_date</th>\n",
       "      <th>region</th>\n",
       "      <th>device</th>\n",
       "    </tr>\n",
       "  </thead>\n",
       "  <tbody>\n",
       "    <tr>\n",
       "      <th>0</th>\n",
       "      <td>D1ABA3E2887B6A73</td>\n",
       "      <td>A</td>\n",
       "      <td>recommender_system_test</td>\n",
       "      <td>2020-12-07 14:43:27</td>\n",
       "      <td>purchase</td>\n",
       "      <td>99.99</td>\n",
       "      <td>2020-12-07</td>\n",
       "      <td>EU</td>\n",
       "      <td>PC</td>\n",
       "    </tr>\n",
       "    <tr>\n",
       "      <th>1</th>\n",
       "      <td>D1ABA3E2887B6A73</td>\n",
       "      <td>A</td>\n",
       "      <td>recommender_system_test</td>\n",
       "      <td>2020-12-07 14:43:29</td>\n",
       "      <td>product_cart</td>\n",
       "      <td>NaN</td>\n",
       "      <td>2020-12-07</td>\n",
       "      <td>EU</td>\n",
       "      <td>PC</td>\n",
       "    </tr>\n",
       "    <tr>\n",
       "      <th>2</th>\n",
       "      <td>D1ABA3E2887B6A73</td>\n",
       "      <td>A</td>\n",
       "      <td>recommender_system_test</td>\n",
       "      <td>2020-12-07 14:43:27</td>\n",
       "      <td>product_page</td>\n",
       "      <td>NaN</td>\n",
       "      <td>2020-12-07</td>\n",
       "      <td>EU</td>\n",
       "      <td>PC</td>\n",
       "    </tr>\n",
       "    <tr>\n",
       "      <th>3</th>\n",
       "      <td>D1ABA3E2887B6A73</td>\n",
       "      <td>A</td>\n",
       "      <td>recommender_system_test</td>\n",
       "      <td>2020-12-07 14:43:27</td>\n",
       "      <td>login</td>\n",
       "      <td>NaN</td>\n",
       "      <td>2020-12-07</td>\n",
       "      <td>EU</td>\n",
       "      <td>PC</td>\n",
       "    </tr>\n",
       "    <tr>\n",
       "      <th>4</th>\n",
       "      <td>A7A3664BD6242119</td>\n",
       "      <td>A</td>\n",
       "      <td>recommender_system_test</td>\n",
       "      <td>2020-12-20 15:46:06</td>\n",
       "      <td>product_page</td>\n",
       "      <td>NaN</td>\n",
       "      <td>2020-12-20</td>\n",
       "      <td>EU</td>\n",
       "      <td>iPhone</td>\n",
       "    </tr>\n",
       "    <tr>\n",
       "      <th>...</th>\n",
       "      <td>...</td>\n",
       "      <td>...</td>\n",
       "      <td>...</td>\n",
       "      <td>...</td>\n",
       "      <td>...</td>\n",
       "      <td>...</td>\n",
       "      <td>...</td>\n",
       "      <td>...</td>\n",
       "      <td>...</td>\n",
       "    </tr>\n",
       "    <tr>\n",
       "      <th>23904</th>\n",
       "      <td>6715343AFBA285AE</td>\n",
       "      <td>B</td>\n",
       "      <td>recommender_system_test</td>\n",
       "      <td>2020-12-07 10:12:15</td>\n",
       "      <td>login</td>\n",
       "      <td>NaN</td>\n",
       "      <td>2020-12-07</td>\n",
       "      <td>CIS</td>\n",
       "      <td>Android</td>\n",
       "    </tr>\n",
       "    <tr>\n",
       "      <th>23905</th>\n",
       "      <td>6715343AFBA285AE</td>\n",
       "      <td>B</td>\n",
       "      <td>recommender_system_test</td>\n",
       "      <td>2020-12-08 22:51:16</td>\n",
       "      <td>login</td>\n",
       "      <td>NaN</td>\n",
       "      <td>2020-12-07</td>\n",
       "      <td>CIS</td>\n",
       "      <td>Android</td>\n",
       "    </tr>\n",
       "    <tr>\n",
       "      <th>23906</th>\n",
       "      <td>6715343AFBA285AE</td>\n",
       "      <td>B</td>\n",
       "      <td>recommender_system_test</td>\n",
       "      <td>2020-12-09 02:28:03</td>\n",
       "      <td>login</td>\n",
       "      <td>NaN</td>\n",
       "      <td>2020-12-07</td>\n",
       "      <td>CIS</td>\n",
       "      <td>Android</td>\n",
       "    </tr>\n",
       "    <tr>\n",
       "      <th>23907</th>\n",
       "      <td>6715343AFBA285AE</td>\n",
       "      <td>B</td>\n",
       "      <td>recommender_system_test</td>\n",
       "      <td>2020-12-10 22:55:14</td>\n",
       "      <td>login</td>\n",
       "      <td>NaN</td>\n",
       "      <td>2020-12-07</td>\n",
       "      <td>CIS</td>\n",
       "      <td>Android</td>\n",
       "    </tr>\n",
       "    <tr>\n",
       "      <th>23908</th>\n",
       "      <td>6715343AFBA285AE</td>\n",
       "      <td>B</td>\n",
       "      <td>recommender_system_test</td>\n",
       "      <td>2020-12-14 12:40:41</td>\n",
       "      <td>login</td>\n",
       "      <td>NaN</td>\n",
       "      <td>2020-12-07</td>\n",
       "      <td>CIS</td>\n",
       "      <td>Android</td>\n",
       "    </tr>\n",
       "  </tbody>\n",
       "</table>\n",
       "<p>23909 rows × 9 columns</p>\n",
       "</div>"
      ],
      "text/plain": [
       "                user_id group                  ab_test            event_dt  \\\n",
       "0      D1ABA3E2887B6A73     A  recommender_system_test 2020-12-07 14:43:27   \n",
       "1      D1ABA3E2887B6A73     A  recommender_system_test 2020-12-07 14:43:29   \n",
       "2      D1ABA3E2887B6A73     A  recommender_system_test 2020-12-07 14:43:27   \n",
       "3      D1ABA3E2887B6A73     A  recommender_system_test 2020-12-07 14:43:27   \n",
       "4      A7A3664BD6242119     A  recommender_system_test 2020-12-20 15:46:06   \n",
       "...                 ...   ...                      ...                 ...   \n",
       "23904  6715343AFBA285AE     B  recommender_system_test 2020-12-07 10:12:15   \n",
       "23905  6715343AFBA285AE     B  recommender_system_test 2020-12-08 22:51:16   \n",
       "23906  6715343AFBA285AE     B  recommender_system_test 2020-12-09 02:28:03   \n",
       "23907  6715343AFBA285AE     B  recommender_system_test 2020-12-10 22:55:14   \n",
       "23908  6715343AFBA285AE     B  recommender_system_test 2020-12-14 12:40:41   \n",
       "\n",
       "         event_name  details first_date region   device  \n",
       "0          purchase    99.99 2020-12-07     EU       PC  \n",
       "1      product_cart      NaN 2020-12-07     EU       PC  \n",
       "2      product_page      NaN 2020-12-07     EU       PC  \n",
       "3             login      NaN 2020-12-07     EU       PC  \n",
       "4      product_page      NaN 2020-12-20     EU   iPhone  \n",
       "...             ...      ...        ...    ...      ...  \n",
       "23904         login      NaN 2020-12-07    CIS  Android  \n",
       "23905         login      NaN 2020-12-07    CIS  Android  \n",
       "23906         login      NaN 2020-12-07    CIS  Android  \n",
       "23907         login      NaN 2020-12-07    CIS  Android  \n",
       "23908         login      NaN 2020-12-07    CIS  Android  \n",
       "\n",
       "[23909 rows x 9 columns]"
      ]
     },
     "execution_count": 22,
     "metadata": {},
     "output_type": "execute_result"
    }
   ],
   "source": [
    "new_test_data = new_test_data.merge(users_data, on='user_id', how='left')\n",
    "new_test_data"
   ]
  },
  {
   "cell_type": "code",
   "execution_count": 23,
   "id": "dcca0aa1",
   "metadata": {},
   "outputs": [
    {
     "name": "stdout",
     "output_type": "stream",
     "text": [
      "<class 'pandas.core.frame.DataFrame'>\n",
      "RangeIndex: 23909 entries, 0 to 23908\n",
      "Data columns (total 9 columns):\n",
      " #   Column      Non-Null Count  Dtype         \n",
      "---  ------      --------------  -----         \n",
      " 0   user_id     23909 non-null  object        \n",
      " 1   group       23909 non-null  object        \n",
      " 2   ab_test     23909 non-null  object        \n",
      " 3   event_dt    23909 non-null  datetime64[ns]\n",
      " 4   event_name  23909 non-null  object        \n",
      " 5   details     3210 non-null   float64       \n",
      " 6   first_date  23909 non-null  datetime64[ns]\n",
      " 7   region      23909 non-null  object        \n",
      " 8   device      23909 non-null  object        \n",
      "dtypes: datetime64[ns](2), float64(1), object(6)\n",
      "memory usage: 1.6+ MB\n"
     ]
    }
   ],
   "source": [
    "new_test_data.info()"
   ]
  },
  {
   "cell_type": "code",
   "execution_count": 24,
   "id": "c3d87dfd",
   "metadata": {},
   "outputs": [
    {
     "name": "stdout",
     "output_type": "stream",
     "text": [
      "user_id               object\n",
      "group                 object\n",
      "ab_test               object\n",
      "event_dt      datetime64[ns]\n",
      "event_name            object\n",
      "details              float64\n",
      "first_date    datetime64[ns]\n",
      "region                object\n",
      "device                object\n",
      "dtype: object\n"
     ]
    }
   ],
   "source": [
    "print(new_test_data.dtypes)"
   ]
  },
  {
   "cell_type": "code",
   "execution_count": 25,
   "id": "102fb213",
   "metadata": {},
   "outputs": [
    {
     "data": {
      "text/html": [
       "<div>\n",
       "<style scoped>\n",
       "    .dataframe tbody tr th:only-of-type {\n",
       "        vertical-align: middle;\n",
       "    }\n",
       "\n",
       "    .dataframe tbody tr th {\n",
       "        vertical-align: top;\n",
       "    }\n",
       "\n",
       "    .dataframe thead th {\n",
       "        text-align: right;\n",
       "    }\n",
       "</style>\n",
       "<table border=\"1\" class=\"dataframe\">\n",
       "  <thead>\n",
       "    <tr style=\"text-align: right;\">\n",
       "      <th></th>\n",
       "      <th>user_id</th>\n",
       "      <th>group</th>\n",
       "      <th>ab_test</th>\n",
       "      <th>event_dt</th>\n",
       "      <th>event_name</th>\n",
       "      <th>details</th>\n",
       "      <th>first_date</th>\n",
       "      <th>region</th>\n",
       "      <th>device</th>\n",
       "      <th>days_between_events</th>\n",
       "    </tr>\n",
       "  </thead>\n",
       "  <tbody>\n",
       "    <tr>\n",
       "      <th>0</th>\n",
       "      <td>D1ABA3E2887B6A73</td>\n",
       "      <td>A</td>\n",
       "      <td>recommender_system_test</td>\n",
       "      <td>2020-12-07 14:43:27</td>\n",
       "      <td>purchase</td>\n",
       "      <td>99.99</td>\n",
       "      <td>2020-12-07</td>\n",
       "      <td>EU</td>\n",
       "      <td>PC</td>\n",
       "      <td>0</td>\n",
       "    </tr>\n",
       "    <tr>\n",
       "      <th>1</th>\n",
       "      <td>D1ABA3E2887B6A73</td>\n",
       "      <td>A</td>\n",
       "      <td>recommender_system_test</td>\n",
       "      <td>2020-12-07 14:43:29</td>\n",
       "      <td>product_cart</td>\n",
       "      <td>NaN</td>\n",
       "      <td>2020-12-07</td>\n",
       "      <td>EU</td>\n",
       "      <td>PC</td>\n",
       "      <td>0</td>\n",
       "    </tr>\n",
       "    <tr>\n",
       "      <th>2</th>\n",
       "      <td>D1ABA3E2887B6A73</td>\n",
       "      <td>A</td>\n",
       "      <td>recommender_system_test</td>\n",
       "      <td>2020-12-07 14:43:27</td>\n",
       "      <td>product_page</td>\n",
       "      <td>NaN</td>\n",
       "      <td>2020-12-07</td>\n",
       "      <td>EU</td>\n",
       "      <td>PC</td>\n",
       "      <td>0</td>\n",
       "    </tr>\n",
       "    <tr>\n",
       "      <th>3</th>\n",
       "      <td>D1ABA3E2887B6A73</td>\n",
       "      <td>A</td>\n",
       "      <td>recommender_system_test</td>\n",
       "      <td>2020-12-07 14:43:27</td>\n",
       "      <td>login</td>\n",
       "      <td>NaN</td>\n",
       "      <td>2020-12-07</td>\n",
       "      <td>EU</td>\n",
       "      <td>PC</td>\n",
       "      <td>0</td>\n",
       "    </tr>\n",
       "    <tr>\n",
       "      <th>4</th>\n",
       "      <td>A7A3664BD6242119</td>\n",
       "      <td>A</td>\n",
       "      <td>recommender_system_test</td>\n",
       "      <td>2020-12-20 15:46:06</td>\n",
       "      <td>product_page</td>\n",
       "      <td>NaN</td>\n",
       "      <td>2020-12-20</td>\n",
       "      <td>EU</td>\n",
       "      <td>iPhone</td>\n",
       "      <td>0</td>\n",
       "    </tr>\n",
       "    <tr>\n",
       "      <th>...</th>\n",
       "      <td>...</td>\n",
       "      <td>...</td>\n",
       "      <td>...</td>\n",
       "      <td>...</td>\n",
       "      <td>...</td>\n",
       "      <td>...</td>\n",
       "      <td>...</td>\n",
       "      <td>...</td>\n",
       "      <td>...</td>\n",
       "      <td>...</td>\n",
       "    </tr>\n",
       "    <tr>\n",
       "      <th>22669</th>\n",
       "      <td>80712ED4EA1B52A5</td>\n",
       "      <td>A</td>\n",
       "      <td>recommender_system_test</td>\n",
       "      <td>2020-12-15 20:10:06</td>\n",
       "      <td>product_page</td>\n",
       "      <td>NaN</td>\n",
       "      <td>2020-12-14</td>\n",
       "      <td>EU</td>\n",
       "      <td>Android</td>\n",
       "      <td>1</td>\n",
       "    </tr>\n",
       "    <tr>\n",
       "      <th>22670</th>\n",
       "      <td>80712ED4EA1B52A5</td>\n",
       "      <td>A</td>\n",
       "      <td>recommender_system_test</td>\n",
       "      <td>2020-12-20 20:01:34</td>\n",
       "      <td>product_page</td>\n",
       "      <td>NaN</td>\n",
       "      <td>2020-12-14</td>\n",
       "      <td>EU</td>\n",
       "      <td>Android</td>\n",
       "      <td>6</td>\n",
       "    </tr>\n",
       "    <tr>\n",
       "      <th>22671</th>\n",
       "      <td>80712ED4EA1B52A5</td>\n",
       "      <td>A</td>\n",
       "      <td>recommender_system_test</td>\n",
       "      <td>2020-12-14 05:48:50</td>\n",
       "      <td>login</td>\n",
       "      <td>NaN</td>\n",
       "      <td>2020-12-14</td>\n",
       "      <td>EU</td>\n",
       "      <td>Android</td>\n",
       "      <td>0</td>\n",
       "    </tr>\n",
       "    <tr>\n",
       "      <th>22672</th>\n",
       "      <td>80712ED4EA1B52A5</td>\n",
       "      <td>A</td>\n",
       "      <td>recommender_system_test</td>\n",
       "      <td>2020-12-15 20:10:03</td>\n",
       "      <td>login</td>\n",
       "      <td>NaN</td>\n",
       "      <td>2020-12-14</td>\n",
       "      <td>EU</td>\n",
       "      <td>Android</td>\n",
       "      <td>1</td>\n",
       "    </tr>\n",
       "    <tr>\n",
       "      <th>22673</th>\n",
       "      <td>80712ED4EA1B52A5</td>\n",
       "      <td>A</td>\n",
       "      <td>recommender_system_test</td>\n",
       "      <td>2020-12-20 20:01:32</td>\n",
       "      <td>login</td>\n",
       "      <td>NaN</td>\n",
       "      <td>2020-12-14</td>\n",
       "      <td>EU</td>\n",
       "      <td>Android</td>\n",
       "      <td>6</td>\n",
       "    </tr>\n",
       "  </tbody>\n",
       "</table>\n",
       "<p>22157 rows × 10 columns</p>\n",
       "</div>"
      ],
      "text/plain": [
       "                user_id group                  ab_test            event_dt  \\\n",
       "0      D1ABA3E2887B6A73     A  recommender_system_test 2020-12-07 14:43:27   \n",
       "1      D1ABA3E2887B6A73     A  recommender_system_test 2020-12-07 14:43:29   \n",
       "2      D1ABA3E2887B6A73     A  recommender_system_test 2020-12-07 14:43:27   \n",
       "3      D1ABA3E2887B6A73     A  recommender_system_test 2020-12-07 14:43:27   \n",
       "4      A7A3664BD6242119     A  recommender_system_test 2020-12-20 15:46:06   \n",
       "...                 ...   ...                      ...                 ...   \n",
       "22669  80712ED4EA1B52A5     A  recommender_system_test 2020-12-15 20:10:06   \n",
       "22670  80712ED4EA1B52A5     A  recommender_system_test 2020-12-20 20:01:34   \n",
       "22671  80712ED4EA1B52A5     A  recommender_system_test 2020-12-14 05:48:50   \n",
       "22672  80712ED4EA1B52A5     A  recommender_system_test 2020-12-15 20:10:03   \n",
       "22673  80712ED4EA1B52A5     A  recommender_system_test 2020-12-20 20:01:32   \n",
       "\n",
       "         event_name  details first_date region   device  days_between_events  \n",
       "0          purchase    99.99 2020-12-07     EU       PC                    0  \n",
       "1      product_cart      NaN 2020-12-07     EU       PC                    0  \n",
       "2      product_page      NaN 2020-12-07     EU       PC                    0  \n",
       "3             login      NaN 2020-12-07     EU       PC                    0  \n",
       "4      product_page      NaN 2020-12-20     EU   iPhone                    0  \n",
       "...             ...      ...        ...    ...      ...                  ...  \n",
       "22669  product_page      NaN 2020-12-14     EU  Android                    1  \n",
       "22670  product_page      NaN 2020-12-14     EU  Android                    6  \n",
       "22671         login      NaN 2020-12-14     EU  Android                    0  \n",
       "22672         login      NaN 2020-12-14     EU  Android                    1  \n",
       "22673         login      NaN 2020-12-14     EU  Android                    6  \n",
       "\n",
       "[22157 rows x 10 columns]"
      ]
     },
     "execution_count": 25,
     "metadata": {},
     "output_type": "execute_result"
    }
   ],
   "source": [
    "#calculamos la diferencia en días directamente\n",
    "new_test_data['days_between_events'] = (new_test_data['event_dt'] - new_test_data['first_date']).dt.days\n",
    "\n",
    "#filtramos los datos según las condiciones\n",
    "new_test_data = new_test_data.query('days_between_events <= 14 & first_date <= \"2021-01-01\" & region == \"EU\"')\n",
    "\n",
    "# mostramos el resultado\n",
    "new_test_data"
   ]
  },
  {
   "cell_type": "markdown",
   "id": "10c1023c",
   "metadata": {},
   "source": [
    "Aquí podemos apreciar que hay usuarios que hicieron varias veces la misma acción entonces vamos a comprobar con base en esto."
   ]
  },
  {
   "cell_type": "markdown",
   "id": "e9a0d3c1",
   "metadata": {},
   "source": [
    "# Estudiar la conversión en las diferentes etapadas del embudo."
   ]
  },
  {
   "cell_type": "code",
   "execution_count": 26,
   "id": "31a7c310",
   "metadata": {
    "scrolled": true
   },
   "outputs": [
    {
     "data": {
      "text/plain": [
       "event_name\n",
       "login           10013\n",
       "product_page     6191\n",
       "purchase         3018\n",
       "product_cart     2935\n",
       "Name: event_name, dtype: int64"
      ]
     },
     "execution_count": 26,
     "metadata": {},
     "output_type": "execute_result"
    }
   ],
   "source": [
    "#contando el numero de eventos \n",
    "new_test_data.groupby('event_name')['event_name'].count().sort_values(ascending=False)"
   ]
  },
  {
   "cell_type": "code",
   "execution_count": 27,
   "id": "f2df41cd",
   "metadata": {},
   "outputs": [
    {
     "data": {
      "text/html": [
       "<div>\n",
       "<style scoped>\n",
       "    .dataframe tbody tr th:only-of-type {\n",
       "        vertical-align: middle;\n",
       "    }\n",
       "\n",
       "    .dataframe tbody tr th {\n",
       "        vertical-align: top;\n",
       "    }\n",
       "\n",
       "    .dataframe thead th {\n",
       "        text-align: right;\n",
       "    }\n",
       "</style>\n",
       "<table border=\"1\" class=\"dataframe\">\n",
       "  <thead>\n",
       "    <tr style=\"text-align: right;\">\n",
       "      <th></th>\n",
       "      <th>event_name</th>\n",
       "      <th>user_id</th>\n",
       "    </tr>\n",
       "  </thead>\n",
       "  <tbody>\n",
       "    <tr>\n",
       "      <th>0</th>\n",
       "      <td>login</td>\n",
       "      <td>3480</td>\n",
       "    </tr>\n",
       "    <tr>\n",
       "      <th>1</th>\n",
       "      <td>product_page</td>\n",
       "      <td>2178</td>\n",
       "    </tr>\n",
       "    <tr>\n",
       "      <th>2</th>\n",
       "      <td>purchase</td>\n",
       "      <td>1082</td>\n",
       "    </tr>\n",
       "    <tr>\n",
       "      <th>3</th>\n",
       "      <td>product_cart</td>\n",
       "      <td>1026</td>\n",
       "    </tr>\n",
       "  </tbody>\n",
       "</table>\n",
       "</div>"
      ],
      "text/plain": [
       "     event_name  user_id\n",
       "0         login     3480\n",
       "1  product_page     2178\n",
       "2      purchase     1082\n",
       "3  product_cart     1026"
      ]
     },
     "execution_count": 27,
     "metadata": {},
     "output_type": "execute_result"
    }
   ],
   "source": [
    "#contando el numero de eventos por usuario unico\n",
    "events_count = new_test_data.groupby('event_name').agg({'user_id': 'nunique'}).sort_values(by=('user_id'), ascending=False).reset_index()\n",
    "events_count"
   ]
  },
  {
   "cell_type": "markdown",
   "id": "7231c62c",
   "metadata": {},
   "source": [
    "Cuando contamos los eventos por usuario único la cantidad de datos se reduce de forma drástica."
   ]
  },
  {
   "cell_type": "code",
   "execution_count": 28,
   "id": "5b86862c",
   "metadata": {},
   "outputs": [
    {
     "name": "stdout",
     "output_type": "stream",
     "text": [
      "Tabla con usuarios únicos por evento:\n",
      "              user_id\n",
      "event_name           \n",
      "login            2604\n",
      "product_cart      782\n",
      "product_page     1685\n",
      "purchase          833\n",
      "\n",
      "Porcentajes de conversión para el grupo A (Login -> Evento):\n",
      "          Event  Conversion Percentage\n",
      "0  product_cart              30.030722\n",
      "1  product_page              64.708141\n",
      "2      purchase              31.989247\n"
     ]
    }
   ],
   "source": [
    "#filtrando los eventos que queremos\n",
    "relevant_events = ['login', 'product_page', 'product_cart', 'purchase']\n",
    "filtered_data = new_test_data[\n",
    "    (new_test_data['event_name'].isin(relevant_events)) & \n",
    "    (new_test_data['group'] == 'A')  # Filtrar únicamente el grupo A\n",
    "]\n",
    "\n",
    "#creando la tabla para estos eventos\n",
    "pivot_table = filtered_data.pivot_table(\n",
    "    index='event_name',       #asignando los eventos como filas\n",
    "    values='user_id',         #los valores serán los users id\n",
    "    aggfunc='nunique',        #usuarios únicos por evento\n",
    "    fill_value=0              #reemplazamos valores nulos por 0\n",
    ")\n",
    "\n",
    "#resultado de la tabla\n",
    "print(\"Tabla con usuarios únicos por evento:\")\n",
    "print(pivot_table)\n",
    "\n",
    "#buscamos el número de usuarios únicos en el evento login para usarlo como base para la comparación porcentual\n",
    "login_users = len(filtered_data.query('event_name == \"login\"')['user_id'].unique())\n",
    "\n",
    "#función para calcular el porcentaje de conversión entre login y el resto de eventos\n",
    "conversion_percentage = {}\n",
    "for event in pivot_table.index:\n",
    "    if event != 'login':  #excluimos a login\n",
    "        event_users = pivot_table.loc[event, 'user_id']  #buscamos el numero de usuarios únicos en el evento\n",
    "        conversion_percentage[event] = (event_users / login_users) * 100 if login_users > 0 else 0\n",
    "\n",
    "#enseñar los resultados con los porcentajes de conversión\n",
    "conversion_df = pd.DataFrame(list(conversion_percentage.items()), columns=['Event', 'Conversion Percentage'])\n",
    "print(\"\\nPorcentajes de conversión para el grupo A (Login -> Evento):\")\n",
    "print(conversion_df)\n"
   ]
  },
  {
   "cell_type": "markdown",
   "id": "99d698d3",
   "metadata": {},
   "source": [
    "En el grupo A hay más eventos de purchase que de product_cart, contrario a lo que esperábamos de nuestro embudo: product_page → product_cart → purchase"
   ]
  },
  {
   "cell_type": "code",
   "execution_count": 29,
   "id": "135c1995",
   "metadata": {},
   "outputs": [
    {
     "name": "stdout",
     "output_type": "stream",
     "text": [
      "Tabla con usuarios únicos por evento:\n",
      "              user_id\n",
      "event_name           \n",
      "login             876\n",
      "product_cart      244\n",
      "product_page      493\n",
      "purchase          249\n",
      "\n",
      "Porcentajes de conversión para el grupo B (Login -> Evento):\n",
      "          Event  Conversion Percentage\n",
      "0  product_cart              27.853881\n",
      "1  product_page              56.278539\n",
      "2      purchase              28.424658\n"
     ]
    }
   ],
   "source": [
    "#filtrando los eventos que queremos\n",
    "relevant_events = ['login', 'product_page', 'product_cart', 'purchase']\n",
    "filtered_data = new_test_data[\n",
    "    (new_test_data['event_name'].isin(relevant_events)) & \n",
    "    (new_test_data['group'] == 'B')  # Filtrar para el grupo B\n",
    "]\n",
    "\n",
    "#creando la tabla para estos eventos\n",
    "pivot_table = filtered_data.pivot_table(\n",
    "    index='event_name',       #asignando los eventos como filas\n",
    "    values='user_id',         #los valores serán los users id\n",
    "    aggfunc='nunique',        #usuarios únicos por evento\n",
    "    fill_value=0              #reemplazamos valores nulos por 0\n",
    ")\n",
    "\n",
    "#resultado de la tabla\n",
    "print(\"Tabla con usuarios únicos por evento:\")\n",
    "print(pivot_table)\n",
    "\n",
    "#buscamos el número de usuarios únicos en el evento login para usarlo como base para la comparación porcentual\n",
    "login_users = len(filtered_data.query('event_name == \"login\"')['user_id'].unique())\n",
    "\n",
    "#función para calcular el porcentaje de conversión entre login y el resto de eventos\n",
    "conversion_percentage = {}\n",
    "for event in pivot_table.index:\n",
    "    if event != 'login':  #excluimos a login\n",
    "        event_users = pivot_table.loc[event, 'user_id']  #buscamos el numero de usuarios únicos en el evento\n",
    "        conversion_percentage[event] = (event_users / login_users) * 100 if login_users > 0 else 0\n",
    "\n",
    "#enseñar los resultados con los porcentajes de conversión\n",
    "conversion_df = pd.DataFrame(list(conversion_percentage.items()), columns=['Event', 'Conversion Percentage'])\n",
    "print(\"\\nPorcentajes de conversión para el grupo B (Login -> Evento):\")\n",
    "print(conversion_df)\n"
   ]
  },
  {
   "cell_type": "markdown",
   "id": "b355e595",
   "metadata": {},
   "source": [
    "Asimismo, hemos visto que también en el grupo B hay más eventos de purchase que de product_cart, también contrario a lo que esperábamos en nuestro embudo product_page → product_cart → purchase.\n",
    "\n",
    "Por este motivo y para poder hacer una mejor comparación porcentual, mostramos el porcentaje de conversión con referencia a Login que representa el 100% de los usuarios únicos en ambos grupos.\n",
    "\n",
    "El rendimiento del grupo B fue inferior con respecto al grupo A en todos los eventos del embudo."
   ]
  },
  {
   "cell_type": "markdown",
   "id": "4f388a67",
   "metadata": {},
   "source": [
    "<div class=\"alert alert-block alert-warning\"> <b>Comentario del revisor</b> <a class=\"tocSkip\"></a><br> <b>Atención</b> ⚠️ - Tus análisis sobre los eventos en el embudo y las inconsistencias detectadas son interesantes y bien fundamentados. No obstante, sería útil incluir gráficos adicionales (por ejemplo, diagramas de barras o gráficos de conversión por etapas) para visualizar de forma más intuitiva las diferencias entre los grupos. Esto mejorará la comprensión de los resultados por parte de la audiencia. ¡Buen trabajo identificando las anomalías! 🎯 </div>"
   ]
  },
  {
   "cell_type": "markdown",
   "id": "7fca0f2f",
   "metadata": {},
   "source": [
    "# ¿El número de eventos por usuario está distribuido equitativamente entre las muestras?"
   ]
  },
  {
   "cell_type": "code",
   "execution_count": 30,
   "id": "dfce5937",
   "metadata": {},
   "outputs": [
    {
     "data": {
      "text/plain": [
       "group\n",
       "A    17377\n",
       "B     4780\n",
       "Name: count, dtype: int64"
      ]
     },
     "execution_count": 30,
     "metadata": {},
     "output_type": "execute_result"
    }
   ],
   "source": [
    "new_test_data['group'].value_counts()"
   ]
  },
  {
   "cell_type": "code",
   "execution_count": 31,
   "id": "fdceb27f",
   "metadata": {},
   "outputs": [
    {
     "data": {
      "text/plain": [
       "22157"
      ]
     },
     "execution_count": 31,
     "metadata": {},
     "output_type": "execute_result"
    }
   ],
   "source": [
    "new_test_data.shape[0]"
   ]
  },
  {
   "cell_type": "markdown",
   "id": "b79b0012",
   "metadata": {},
   "source": [
    "Los grupos tienen una diferencia de tamaño notable, siendo el grupo B mucho más pequeño."
   ]
  },
  {
   "cell_type": "markdown",
   "id": "ff6bf146",
   "metadata": {},
   "source": [
    "# ¿Hay usuarios que estén presentes en ambas muestras?"
   ]
  },
  {
   "cell_type": "code",
   "execution_count": 32,
   "id": "c8d92506",
   "metadata": {},
   "outputs": [
    {
     "name": "stdout",
     "output_type": "stream",
     "text": [
      "False\n"
     ]
    }
   ],
   "source": [
    "unique_A_user = new_test_data.query('group == \"A\"')['user_id'].unique()\n",
    "unique_B_user = new_test_data.query('group == \"B\"')['user_id'].unique()\n",
    "print(set(unique_B_user).issubset(set(unique_A_user)))"
   ]
  },
  {
   "cell_type": "code",
   "execution_count": 33,
   "id": "b5038535",
   "metadata": {},
   "outputs": [
    {
     "name": "stdout",
     "output_type": "stream",
     "text": [
      "Usuarios presentes en ambos grupos: 0\n"
     ]
    }
   ],
   "source": [
    "# Usuarios comunes entre ambos grupos\n",
    "common_users = set(unique_A_user).intersection(set(unique_B_user))\n",
    "print(f\"Usuarios presentes en ambos grupos: {len(common_users)}\")\n"
   ]
  },
  {
   "cell_type": "markdown",
   "id": "9a66fb1c",
   "metadata": {},
   "source": [
    "# ¿Cómo se distribuye el número de eventos entre los días?"
   ]
  },
  {
   "cell_type": "code",
   "execution_count": 34,
   "id": "d9e929da",
   "metadata": {},
   "outputs": [
    {
     "name": "stderr",
     "output_type": "stream",
     "text": [
      "C:\\Users\\jmrg2\\AppData\\Local\\Temp\\ipykernel_23780\\1941476645.py:1: SettingWithCopyWarning: \n",
      "A value is trying to be set on a copy of a slice from a DataFrame.\n",
      "Try using .loc[row_indexer,col_indexer] = value instead\n",
      "\n",
      "See the caveats in the documentation: https://pandas.pydata.org/pandas-docs/stable/user_guide/indexing.html#returning-a-view-versus-a-copy\n",
      "  new_test_data['day'] = new_test_data['event_dt'].dt.weekday\n"
     ]
    },
    {
     "data": {
      "text/html": [
       "<div>\n",
       "<style scoped>\n",
       "    .dataframe tbody tr th:only-of-type {\n",
       "        vertical-align: middle;\n",
       "    }\n",
       "\n",
       "    .dataframe tbody tr th {\n",
       "        vertical-align: top;\n",
       "    }\n",
       "\n",
       "    .dataframe thead th {\n",
       "        text-align: right;\n",
       "    }\n",
       "</style>\n",
       "<table border=\"1\" class=\"dataframe\">\n",
       "  <thead>\n",
       "    <tr style=\"text-align: right;\">\n",
       "      <th></th>\n",
       "      <th>user_id</th>\n",
       "      <th>group</th>\n",
       "      <th>ab_test</th>\n",
       "      <th>event_dt</th>\n",
       "      <th>event_name</th>\n",
       "      <th>details</th>\n",
       "      <th>first_date</th>\n",
       "      <th>region</th>\n",
       "      <th>device</th>\n",
       "      <th>days_between_events</th>\n",
       "      <th>day</th>\n",
       "    </tr>\n",
       "  </thead>\n",
       "  <tbody>\n",
       "    <tr>\n",
       "      <th>0</th>\n",
       "      <td>D1ABA3E2887B6A73</td>\n",
       "      <td>A</td>\n",
       "      <td>recommender_system_test</td>\n",
       "      <td>2020-12-07 14:43:27</td>\n",
       "      <td>purchase</td>\n",
       "      <td>99.99</td>\n",
       "      <td>2020-12-07</td>\n",
       "      <td>EU</td>\n",
       "      <td>PC</td>\n",
       "      <td>0</td>\n",
       "      <td>0</td>\n",
       "    </tr>\n",
       "    <tr>\n",
       "      <th>1</th>\n",
       "      <td>D1ABA3E2887B6A73</td>\n",
       "      <td>A</td>\n",
       "      <td>recommender_system_test</td>\n",
       "      <td>2020-12-07 14:43:29</td>\n",
       "      <td>product_cart</td>\n",
       "      <td>NaN</td>\n",
       "      <td>2020-12-07</td>\n",
       "      <td>EU</td>\n",
       "      <td>PC</td>\n",
       "      <td>0</td>\n",
       "      <td>0</td>\n",
       "    </tr>\n",
       "    <tr>\n",
       "      <th>2</th>\n",
       "      <td>D1ABA3E2887B6A73</td>\n",
       "      <td>A</td>\n",
       "      <td>recommender_system_test</td>\n",
       "      <td>2020-12-07 14:43:27</td>\n",
       "      <td>product_page</td>\n",
       "      <td>NaN</td>\n",
       "      <td>2020-12-07</td>\n",
       "      <td>EU</td>\n",
       "      <td>PC</td>\n",
       "      <td>0</td>\n",
       "      <td>0</td>\n",
       "    </tr>\n",
       "    <tr>\n",
       "      <th>3</th>\n",
       "      <td>D1ABA3E2887B6A73</td>\n",
       "      <td>A</td>\n",
       "      <td>recommender_system_test</td>\n",
       "      <td>2020-12-07 14:43:27</td>\n",
       "      <td>login</td>\n",
       "      <td>NaN</td>\n",
       "      <td>2020-12-07</td>\n",
       "      <td>EU</td>\n",
       "      <td>PC</td>\n",
       "      <td>0</td>\n",
       "      <td>0</td>\n",
       "    </tr>\n",
       "    <tr>\n",
       "      <th>4</th>\n",
       "      <td>A7A3664BD6242119</td>\n",
       "      <td>A</td>\n",
       "      <td>recommender_system_test</td>\n",
       "      <td>2020-12-20 15:46:06</td>\n",
       "      <td>product_page</td>\n",
       "      <td>NaN</td>\n",
       "      <td>2020-12-20</td>\n",
       "      <td>EU</td>\n",
       "      <td>iPhone</td>\n",
       "      <td>0</td>\n",
       "      <td>6</td>\n",
       "    </tr>\n",
       "  </tbody>\n",
       "</table>\n",
       "</div>"
      ],
      "text/plain": [
       "            user_id group                  ab_test            event_dt  \\\n",
       "0  D1ABA3E2887B6A73     A  recommender_system_test 2020-12-07 14:43:27   \n",
       "1  D1ABA3E2887B6A73     A  recommender_system_test 2020-12-07 14:43:29   \n",
       "2  D1ABA3E2887B6A73     A  recommender_system_test 2020-12-07 14:43:27   \n",
       "3  D1ABA3E2887B6A73     A  recommender_system_test 2020-12-07 14:43:27   \n",
       "4  A7A3664BD6242119     A  recommender_system_test 2020-12-20 15:46:06   \n",
       "\n",
       "     event_name  details first_date region  device  days_between_events  day  \n",
       "0      purchase    99.99 2020-12-07     EU      PC                    0    0  \n",
       "1  product_cart      NaN 2020-12-07     EU      PC                    0    0  \n",
       "2  product_page      NaN 2020-12-07     EU      PC                    0    0  \n",
       "3         login      NaN 2020-12-07     EU      PC                    0    0  \n",
       "4  product_page      NaN 2020-12-20     EU  iPhone                    0    6  "
      ]
     },
     "execution_count": 34,
     "metadata": {},
     "output_type": "execute_result"
    }
   ],
   "source": [
    "new_test_data['day'] = new_test_data['event_dt'].dt.weekday\n",
    "new_test_data.head()"
   ]
  },
  {
   "cell_type": "code",
   "execution_count": 35,
   "id": "943b9786",
   "metadata": {},
   "outputs": [
    {
     "data": {
      "image/png": "[encoded data removed]",
      "text/plain": [
       "<Figure size 640x480 with 1 Axes>"
      ]
     },
     "metadata": {},
     "output_type": "display_data"
    }
   ],
   "source": [
    "\n",
    "new_test_data.hist(column=\"event_dt\", bins=14)\n",
    "plt.title('Distribución de eventos entre los días')\n",
    "plt.xticks(rotation=45)\n",
    "plt.show()"
   ]
  },
  {
   "cell_type": "markdown",
   "id": "a9226bf4",
   "metadata": {},
   "source": [
    "El día del 21 de diciembre del 2020 es donde más eventos y decrece hasta llegar al 25 de diciembre, donde comienza a incrementarse de nuevo."
   ]
  },
  {
   "cell_type": "markdown",
   "id": "4cb07ded",
   "metadata": {},
   "source": [
    "# ¿Hay alguna peculiaridad en los datos que hay que tener en cuenta antes de iniciar la prueba A/B?"
   ]
  },
  {
   "cell_type": "markdown",
   "id": "832bc3fd",
   "metadata": {},
   "source": [
    "Tenemos una mayor cantida de usuarios para el grupo A que para el grupo B, y también tenemos más eventos de purchase que de product_cart, lo que indica que hubo usuarios que compraron sin pasar por el carrito."
   ]
  },
  {
   "cell_type": "markdown",
   "id": "04afbbdd",
   "metadata": {},
   "source": [
    "# Evaluar los datos de la prueba A/B"
   ]
  },
  {
   "cell_type": "markdown",
   "id": "cf498bc4",
   "metadata": {},
   "source": [
    "# ¿Qué podemos decir sobre los resultados de la prueba A/B?"
   ]
  },
  {
   "cell_type": "markdown",
   "id": "879a2e72",
   "metadata": {},
   "source": [
    "Hasta el momento, primero podemos decir que hubo un rendimiento menor del grupo B en todos los eventos, pero también tuvimos una cantidad de usuarios mucho más pequeña que pudo haber influido en este resultado."
   ]
  },
  {
   "cell_type": "markdown",
   "id": "8595d682",
   "metadata": {},
   "source": [
    "# Prueba Z para comprobar la diferencia estadística de proporciones."
   ]
  },
  {
   "cell_type": "code",
   "execution_count": 42,
   "id": "33ca9149",
   "metadata": {},
   "outputs": [
    {
     "name": "stdout",
     "output_type": "stream",
     "text": [
      "Estadístico Z: 4.50\n",
      "P-valor: 0.00001\n",
      "Rechazamos la hipótesis nula: Hay una diferencia significativa en la conversión del evento.\n"
     ]
    }
   ],
   "source": [
    "#prueba para product_page\n",
    "n_A = len(new_test_data[new_test_data['group'] == 'A']['user_id'].unique())\n",
    "n_B = len(new_test_data[new_test_data['group'] == 'B']['user_id'].unique())\n",
    "\n",
    "x_A = len(new_test_data[(new_test_data['group'] == 'A') & (new_test_data['event_name'] == 'product_page')]['user_id'].unique())\n",
    "x_B = len(new_test_data[(new_test_data['group'] == 'B') & (new_test_data['event_name'] == 'product_page')]['user_id'].unique())\n",
    "\n",
    "# Prueba Z para proporciones\n",
    "count = [x_A, x_B]\n",
    "nobs = [n_A, n_B]\n",
    "\n",
    "z_stat, p_value = proportions_ztest(count, nobs)\n",
    "\n",
    "# Resultados\n",
    "print(f\"Estadístico Z: {z_stat:.2f}\")\n",
    "print(f\"P-valor: {p_value:.5f}\")\n",
    "\n",
    "if p_value <= 0.05:\n",
    "    print(\"Rechazamos la hipótesis nula: Hay una diferencia significativa en la conversión del evento.\")\n",
    "else:\n",
    "    print(\"No podemos rechazar la hipótesis nula: No hay evidencia suficiente para afirmar que las conversiones son diferentes.\")\n"
   ]
  },
  {
   "cell_type": "code",
   "execution_count": 43,
   "id": "847c8340",
   "metadata": {},
   "outputs": [
    {
     "name": "stdout",
     "output_type": "stream",
     "text": [
      "Estadístico Z: 1.24\n",
      "P-valor: 0.21469\n",
      "No podemos rechazar la hipótesis nula: No hay evidencia suficiente para afirmar que las conversiones son diferentes.\n"
     ]
    }
   ],
   "source": [
    "# prueba para product_cart \n",
    "total_users_group_A = len(new_test_data[new_test_data['group'] == 'A']['user_id'].unique())\n",
    "total_users_group_B = len(new_test_data[new_test_data['group'] == 'B']['user_id'].unique())\n",
    "\n",
    "users_product_page_group_A = len(new_test_data[(new_test_data['group'] == 'A') & (new_test_data['event_name'] == 'product_cart')]['user_id'].unique())\n",
    "users_product_page_group_B = len(new_test_data[(new_test_data['group'] == 'B') & (new_test_data['event_name'] == 'product_cart')]['user_id'].unique())\n",
    "\n",
    "# Prueba Z para proporciones\n",
    "counts = [users_product_page_group_A, users_product_page_group_B]\n",
    "totals = [total_users_group_A, total_users_group_B]\n",
    "\n",
    "z_stat, p_value = proportions_ztest(counts, totals)\n",
    "\n",
    "# Resultados\n",
    "print(f\"Estadístico Z: {z_stat:.2f}\")\n",
    "print(f\"P-valor: {p_value:.5f}\")\n",
    "\n",
    "if p_value <= 0.05:\n",
    "    print(\"Rechazamos la hipótesis nula: Hay una diferencia significativa en la conversión del evento product_page.\")\n",
    "else:\n",
    "    print(\"No podemos rechazar la hipótesis nula: No hay evidencia suficiente para afirmar que las conversiones son diferentes.\")\n"
   ]
  },
  {
   "cell_type": "code",
   "execution_count": 44,
   "id": "13dd2a79",
   "metadata": {},
   "outputs": [
    {
     "name": "stdout",
     "output_type": "stream",
     "text": [
      "Estadístico Z: 1.99\n",
      "P-valor: 0.04652\n",
      "Rechazamos la hipótesis nula: Hay una diferencia significativa en la conversión del evento.\n"
     ]
    }
   ],
   "source": [
    "#prueba para purchase\n",
    "total_users_group_A = len(new_test_data[new_test_data['group'] == 'A']['user_id'].unique())\n",
    "total_users_group_B = len(new_test_data[new_test_data['group'] == 'B']['user_id'].unique())\n",
    "\n",
    "users_product_page_group_A = len(new_test_data[(new_test_data['group'] == 'A') & (new_test_data['event_name'] == 'purchase')]['user_id'].unique())\n",
    "users_product_page_group_B = len(new_test_data[(new_test_data['group'] == 'B') & (new_test_data['event_name'] == 'purchase')]['user_id'].unique())\n",
    "\n",
    "# Prueba Z para proporciones\n",
    "counts = [users_product_page_group_A, users_product_page_group_B]\n",
    "totals = [total_users_group_A, total_users_group_B]\n",
    "\n",
    "z_stat, p_value = proportions_ztest(counts, totals)\n",
    "\n",
    "# Resultados\n",
    "print(f\"Estadístico Z: {z_stat:.2f}\")\n",
    "print(f\"P-valor: {p_value:.5f}\")\n",
    "\n",
    "if p_value <= 0.05:\n",
    "    print(\"Rechazamos la hipótesis nula: Hay una diferencia significativa en la conversión del evento.\")\n",
    "else:\n",
    "    print(\"No podemos rechazar la hipótesis nula: No hay evidencia suficiente para afirmar que las conversiones son diferentes.\")\n"
   ]
  },
  {
   "cell_type": "markdown",
   "id": "dfc63004",
   "metadata": {},
   "source": [
    "<div class=\"alert alert-block alert-success\"> <b>Comentario del revisor</b> <a class=\"tocSkip\"></a><br> <b>Éxito</b> - Excelente implementación de pruebas Z para evaluar la significancia estadística de las diferencias entre los grupos. Demostraste un gran dominio de las herramientas estadísticas y una interpretación adecuada de los p-valores. Además, tu comparación entre eventos es clara y relevante. ¡Gran trabajo! 🔍 </div>"
   ]
  },
  {
   "cell_type": "markdown",
   "id": "ec7cbc48",
   "metadata": {},
   "source": [
    "# Conclusión respecto a la etapa EDA y los resultados de la prueba"
   ]
  },
  {
   "cell_type": "markdown",
   "id": "2fa0ea69",
   "metadata": {},
   "source": [
    "- Una cosa que podemos remarcar es que los grupos A y B eran de tamaños diferentes, siendo el grupo B casi 4 veces más pequeño.\n",
    "- Se encontró que el embudo era inconsistente en cuanto a la cantidad de eventos en cada etapa, ya que había más eventos en compras que en product_cart.\n",
    "- Debido a este último punto, se optó por comparar la conversión de Login con cada evento para hacer una mejor comparación de conversión entre los dos grupos.\n",
    "- Al seguir esto, se encontró que el grupo B tuvo un peor rendimiento en todos los eventos.\n",
    "- No hubo usuarios que hayan estado en los grupos A y B de forma simultanea.\n",
    "- El día 21 de diciembre fue cuando hubo mayor actividad en los eventos y rápidamente decreció a medida que se se acercaban al 25 de diciembre.\n",
    "\n",
    "- En cuanto a las **pruebas estadísticas**, encontramos que únicamente no hay una diferencia significa de conversión en el evento product_cart, sin embargo, es el mismo evento donde encontramos la inconsistencia en cuanto al número de eventos, ya que en teoría debieron haber pasado por ahí al hacer la compra. \n",
    "- En cuanto a los otros dos eventos, ahí se encontraron diferencias estadísticas significativas, siendo el grupo A superior al B."
   ]
  },
  {
   "cell_type": "markdown",
   "id": "f55495ec",
   "metadata": {},
   "source": [
    "\n",
    "\n",
    "#  Comentarios por Sección\n",
    "\n",
    "<div class=\"alert alert-block alert-success\">\n",
    "<b>Comentario del revisor</b> <a class=\"tocSkip\"></a><br>\n",
    "¡FELICIDADES! 🎉 Has realizado un análisis completo y bien fundamentado de esta prueba A/B. Mostraste habilidades sólidas en la preparación, análisis, y evaluación estadística de los datos. Además, tus interpretaciones y conclusiones son claras y reflejan una comprensión avanzada del proceso de prueba A/B. 🌟\n",
    "\n",
    "#### **PUNTOS POSITIVOS**:\n",
    "- Preparación meticulosa de los datos con transformaciones adecuadas.\n",
    "- Análisis exploratorio detallado y enfoque lógico para identificar patrones y anomalías.\n",
    "- Implementación impecable de pruebas estadísticas para evaluar hipótesis.\n",
    "\n",
    "#### **ÁREAS PARA MEJORAR**:\n",
    "- Explorar con más profundidad el impacto del desequilibrio en los tamaños de los grupos.\n",
    "- Incluir más visualizaciones para comunicar los resultados de manera más intuitiva.\n",
    "\n",
    "¡Sigue así! Este proyecto refleja tus grandes habilidades analíticas y estadísticas. 😊✨\n",
    "</div> \n",
    "\n",
    "\n",
    "\n"
   ]
  },
  {
   "cell_type": "code",
   "execution_count": null,
   "id": "b3d2de25",
   "metadata": {},
   "outputs": [],
   "source": []
  }
 ],
 "metadata": {
  "kernelspec": {
   "display_name": "Python 3 (ipykernel)",
   "language": "python",
   "name": "python3"
  },
  "language_info": {
   "codemirror_mode": {
    "name": "ipython",
    "version": 3
   },
   "file_extension": ".py",
   "mimetype": "text/x-python",
   "name": "python",
   "nbconvert_exporter": "python",
   "pygments_lexer": "ipython3",
   "version": "3.9.19"
  },
  "toc": {
   "base_numbering": 1,
   "nav_menu": {},
   "number_sections": true,
   "sideBar": true,
   "skip_h1_title": true,
   "title_cell": "Table of Contents",
   "title_sidebar": "Contents",
   "toc_cell": false,
   "toc_position": {},
   "toc_section_display": true,
   "toc_window_display": false
  }
 },
 "nbformat": 4,
 "nbformat_minor": 5
}
