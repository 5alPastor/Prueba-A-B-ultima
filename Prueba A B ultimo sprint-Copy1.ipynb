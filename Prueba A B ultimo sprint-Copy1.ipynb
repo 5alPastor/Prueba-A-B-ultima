{
 "cells": [
  {
   "cell_type": "markdown",
   "id": "3213d3ad",
   "metadata": {},
   "source": [
    "# Prueba A/B para una tienda internacional."
   ]
  },
  {
   "cell_type": "markdown",
   "id": "1ede181d",
   "metadata": {},
   "source": [
    "En esta prueba A/B para una tienda donde analizaremos los resultados relacionados con la introduccion de un sistema de recomendaciones mejorado con un grupo de control (A) y  un grupo de prueba que usará el nuevo embudo de pago (B). Tenemos previsto 6000 participantes. \n",
    "\n",
    "Lo que esperamos de esta prueba A/B es que dentro de los 14 días posteriores a la inscripción, los usuarios mejoren estas métricas o eventos:\n",
    "\n",
    "- Una mejor conversión en vistas de la página del producto (el evento product_page).\n",
    "- Instancias de agregar artículos al carrito de compras (product_cart)\n",
    "- Compras (purchase)\n",
    "- Al menos un 10% de mejora en cada etapa de este embudo (product_page → product_cart → purchase)."
   ]
  },
  {
   "cell_type": "markdown",
   "id": "61965005",
   "metadata": {},
   "source": [
    "# Descripción de los sets\n",
    "\n",
    "Contaremos con 4 sets de datos que contienen estas columnas:\n",
    "    \n",
    "1. ab_project__marketing_events_us.csv:\n",
    "\n",
    "* name — el nombre del evento de marketing\n",
    "* regions — regiones donde se llevará a cabo la campaña publicitaria\n",
    "* start_dt — fecha de inicio de la campaña\n",
    "* finish_dt — fecha de finalización de la campaña\n",
    "\n",
    "2. final_ab_new_users_upd_us.csv:\n",
    "\n",
    "* user_id\n",
    "* first_date — fecha de inscripción\n",
    "* region\n",
    "* device — dispositivo utilizado para la inscripción\n",
    "\n",
    "3. final_ab_events_upd_us.csv:\n",
    "\n",
    "* user_id\n",
    "* event_dt — fecha y hora del evento\n",
    "* event_name — nombre del tipo de evento\n",
    "* details — datos adicionales sobre el evento (por ejemplo, el pedido total en USD para los eventos purchase)\n",
    "\n",
    "4. final_ab_participants_upd_us.csv:\n",
    "\n",
    "* user_id\n",
    "* ab_test — nombre de la prueba\n",
    "* group — el grupo de prueba al que pertenecía el usuario"
   ]
  },
  {
   "cell_type": "code",
   "execution_count": 1,
   "id": "243246c5",
   "metadata": {},
   "outputs": [],
   "source": [
    "# Importar librerías y sets de datos necesarios"
   ]
  },
  {
   "cell_type": "code",
   "execution_count": 2,
   "id": "9e0dc1c4",
   "metadata": {},
   "outputs": [],
   "source": [
    "import pandas as pd\n",
    "import numpy as np\n",
    "import matplotlib.pyplot as plt\n",
    "import math as mth\n",
    "from scipy import stats as st\n",
    "import scipy.stats as stats"
   ]
  },
  {
   "cell_type": "code",
   "execution_count": 3,
   "id": "b146b5c6",
   "metadata": {},
   "outputs": [
    {
     "data": {
      "text/html": [
       "<div>\n",
       "<style scoped>\n",
       "    .dataframe tbody tr th:only-of-type {\n",
       "        vertical-align: middle;\n",
       "    }\n",
       "\n",
       "    .dataframe tbody tr th {\n",
       "        vertical-align: top;\n",
       "    }\n",
       "\n",
       "    .dataframe thead th {\n",
       "        text-align: right;\n",
       "    }\n",
       "</style>\n",
       "<table border=\"1\" class=\"dataframe\">\n",
       "  <thead>\n",
       "    <tr style=\"text-align: right;\">\n",
       "      <th></th>\n",
       "      <th>name</th>\n",
       "      <th>regions</th>\n",
       "      <th>start_dt</th>\n",
       "      <th>finish_dt</th>\n",
       "    </tr>\n",
       "  </thead>\n",
       "  <tbody>\n",
       "    <tr>\n",
       "      <th>0</th>\n",
       "      <td>Christmas&amp;New Year Promo</td>\n",
       "      <td>EU, N.America</td>\n",
       "      <td>2020-12-25</td>\n",
       "      <td>2021-01-03</td>\n",
       "    </tr>\n",
       "    <tr>\n",
       "      <th>1</th>\n",
       "      <td>St. Valentine's Day Giveaway</td>\n",
       "      <td>EU, CIS, APAC, N.America</td>\n",
       "      <td>2020-02-14</td>\n",
       "      <td>2020-02-16</td>\n",
       "    </tr>\n",
       "    <tr>\n",
       "      <th>2</th>\n",
       "      <td>St. Patric's Day Promo</td>\n",
       "      <td>EU, N.America</td>\n",
       "      <td>2020-03-17</td>\n",
       "      <td>2020-03-19</td>\n",
       "    </tr>\n",
       "    <tr>\n",
       "      <th>3</th>\n",
       "      <td>Easter Promo</td>\n",
       "      <td>EU, CIS, APAC, N.America</td>\n",
       "      <td>2020-04-12</td>\n",
       "      <td>2020-04-19</td>\n",
       "    </tr>\n",
       "    <tr>\n",
       "      <th>4</th>\n",
       "      <td>4th of July Promo</td>\n",
       "      <td>N.America</td>\n",
       "      <td>2020-07-04</td>\n",
       "      <td>2020-07-11</td>\n",
       "    </tr>\n",
       "    <tr>\n",
       "      <th>5</th>\n",
       "      <td>Black Friday Ads Campaign</td>\n",
       "      <td>EU, CIS, APAC, N.America</td>\n",
       "      <td>2020-11-26</td>\n",
       "      <td>2020-12-01</td>\n",
       "    </tr>\n",
       "    <tr>\n",
       "      <th>6</th>\n",
       "      <td>Chinese New Year Promo</td>\n",
       "      <td>APAC</td>\n",
       "      <td>2020-01-25</td>\n",
       "      <td>2020-02-07</td>\n",
       "    </tr>\n",
       "    <tr>\n",
       "      <th>7</th>\n",
       "      <td>Labor day (May 1st) Ads Campaign</td>\n",
       "      <td>EU, CIS, APAC</td>\n",
       "      <td>2020-05-01</td>\n",
       "      <td>2020-05-03</td>\n",
       "    </tr>\n",
       "    <tr>\n",
       "      <th>8</th>\n",
       "      <td>International Women's Day Promo</td>\n",
       "      <td>EU, CIS, APAC</td>\n",
       "      <td>2020-03-08</td>\n",
       "      <td>2020-03-10</td>\n",
       "    </tr>\n",
       "    <tr>\n",
       "      <th>9</th>\n",
       "      <td>Victory Day CIS (May 9th) Event</td>\n",
       "      <td>CIS</td>\n",
       "      <td>2020-05-09</td>\n",
       "      <td>2020-05-11</td>\n",
       "    </tr>\n",
       "    <tr>\n",
       "      <th>10</th>\n",
       "      <td>CIS New Year Gift Lottery</td>\n",
       "      <td>CIS</td>\n",
       "      <td>2020-12-30</td>\n",
       "      <td>2021-01-07</td>\n",
       "    </tr>\n",
       "    <tr>\n",
       "      <th>11</th>\n",
       "      <td>Dragon Boat Festival Giveaway</td>\n",
       "      <td>APAC</td>\n",
       "      <td>2020-06-25</td>\n",
       "      <td>2020-07-01</td>\n",
       "    </tr>\n",
       "    <tr>\n",
       "      <th>12</th>\n",
       "      <td>Single's Day Gift Promo</td>\n",
       "      <td>APAC</td>\n",
       "      <td>2020-11-11</td>\n",
       "      <td>2020-11-12</td>\n",
       "    </tr>\n",
       "    <tr>\n",
       "      <th>13</th>\n",
       "      <td>Chinese Moon Festival</td>\n",
       "      <td>APAC</td>\n",
       "      <td>2020-10-01</td>\n",
       "      <td>2020-10-07</td>\n",
       "    </tr>\n",
       "  </tbody>\n",
       "</table>\n",
       "</div>"
      ],
      "text/plain": [
       "                                name                   regions    start_dt  \\\n",
       "0           Christmas&New Year Promo             EU, N.America  2020-12-25   \n",
       "1       St. Valentine's Day Giveaway  EU, CIS, APAC, N.America  2020-02-14   \n",
       "2             St. Patric's Day Promo             EU, N.America  2020-03-17   \n",
       "3                       Easter Promo  EU, CIS, APAC, N.America  2020-04-12   \n",
       "4                  4th of July Promo                 N.America  2020-07-04   \n",
       "5          Black Friday Ads Campaign  EU, CIS, APAC, N.America  2020-11-26   \n",
       "6             Chinese New Year Promo                      APAC  2020-01-25   \n",
       "7   Labor day (May 1st) Ads Campaign             EU, CIS, APAC  2020-05-01   \n",
       "8    International Women's Day Promo             EU, CIS, APAC  2020-03-08   \n",
       "9    Victory Day CIS (May 9th) Event                       CIS  2020-05-09   \n",
       "10         CIS New Year Gift Lottery                       CIS  2020-12-30   \n",
       "11     Dragon Boat Festival Giveaway                      APAC  2020-06-25   \n",
       "12           Single's Day Gift Promo                      APAC  2020-11-11   \n",
       "13             Chinese Moon Festival                      APAC  2020-10-01   \n",
       "\n",
       "     finish_dt  \n",
       "0   2021-01-03  \n",
       "1   2020-02-16  \n",
       "2   2020-03-19  \n",
       "3   2020-04-19  \n",
       "4   2020-07-11  \n",
       "5   2020-12-01  \n",
       "6   2020-02-07  \n",
       "7   2020-05-03  \n",
       "8   2020-03-10  \n",
       "9   2020-05-11  \n",
       "10  2021-01-07  \n",
       "11  2020-07-01  \n",
       "12  2020-11-12  \n",
       "13  2020-10-07  "
      ]
     },
     "execution_count": 3,
     "metadata": {},
     "output_type": "execute_result"
    }
   ],
   "source": [
    "first_events_data = pd.read_csv('./datasets/ab_project_marketing_events_us.csv')\n",
    "first_events_data"
   ]
  },
  {
   "cell_type": "code",
   "execution_count": 4,
   "id": "7c7849d6",
   "metadata": {},
   "outputs": [
    {
     "data": {
      "text/html": [
       "<div>\n",
       "<style scoped>\n",
       "    .dataframe tbody tr th:only-of-type {\n",
       "        vertical-align: middle;\n",
       "    }\n",
       "\n",
       "    .dataframe tbody tr th {\n",
       "        vertical-align: top;\n",
       "    }\n",
       "\n",
       "    .dataframe thead th {\n",
       "        text-align: right;\n",
       "    }\n",
       "</style>\n",
       "<table border=\"1\" class=\"dataframe\">\n",
       "  <thead>\n",
       "    <tr style=\"text-align: right;\">\n",
       "      <th></th>\n",
       "      <th>user_id</th>\n",
       "      <th>first_date</th>\n",
       "      <th>region</th>\n",
       "      <th>device</th>\n",
       "    </tr>\n",
       "  </thead>\n",
       "  <tbody>\n",
       "    <tr>\n",
       "      <th>0</th>\n",
       "      <td>D72A72121175D8BE</td>\n",
       "      <td>2020-12-07</td>\n",
       "      <td>EU</td>\n",
       "      <td>PC</td>\n",
       "    </tr>\n",
       "    <tr>\n",
       "      <th>1</th>\n",
       "      <td>F1C668619DFE6E65</td>\n",
       "      <td>2020-12-07</td>\n",
       "      <td>N.America</td>\n",
       "      <td>Android</td>\n",
       "    </tr>\n",
       "    <tr>\n",
       "      <th>2</th>\n",
       "      <td>2E1BF1D4C37EA01F</td>\n",
       "      <td>2020-12-07</td>\n",
       "      <td>EU</td>\n",
       "      <td>PC</td>\n",
       "    </tr>\n",
       "    <tr>\n",
       "      <th>3</th>\n",
       "      <td>50734A22C0C63768</td>\n",
       "      <td>2020-12-07</td>\n",
       "      <td>EU</td>\n",
       "      <td>iPhone</td>\n",
       "    </tr>\n",
       "    <tr>\n",
       "      <th>4</th>\n",
       "      <td>E1BDDCE0DAFA2679</td>\n",
       "      <td>2020-12-07</td>\n",
       "      <td>N.America</td>\n",
       "      <td>iPhone</td>\n",
       "    </tr>\n",
       "    <tr>\n",
       "      <th>...</th>\n",
       "      <td>...</td>\n",
       "      <td>...</td>\n",
       "      <td>...</td>\n",
       "      <td>...</td>\n",
       "    </tr>\n",
       "    <tr>\n",
       "      <th>58698</th>\n",
       "      <td>1DB53B933257165D</td>\n",
       "      <td>2020-12-20</td>\n",
       "      <td>EU</td>\n",
       "      <td>Android</td>\n",
       "    </tr>\n",
       "    <tr>\n",
       "      <th>58699</th>\n",
       "      <td>538643EB4527ED03</td>\n",
       "      <td>2020-12-20</td>\n",
       "      <td>EU</td>\n",
       "      <td>Mac</td>\n",
       "    </tr>\n",
       "    <tr>\n",
       "      <th>58700</th>\n",
       "      <td>7ADEE837D5D8CBBD</td>\n",
       "      <td>2020-12-20</td>\n",
       "      <td>EU</td>\n",
       "      <td>PC</td>\n",
       "    </tr>\n",
       "    <tr>\n",
       "      <th>58701</th>\n",
       "      <td>1C7D23927835213F</td>\n",
       "      <td>2020-12-20</td>\n",
       "      <td>EU</td>\n",
       "      <td>iPhone</td>\n",
       "    </tr>\n",
       "    <tr>\n",
       "      <th>58702</th>\n",
       "      <td>8F04273BB2860229</td>\n",
       "      <td>2020-12-20</td>\n",
       "      <td>EU</td>\n",
       "      <td>Android</td>\n",
       "    </tr>\n",
       "  </tbody>\n",
       "</table>\n",
       "<p>58703 rows × 4 columns</p>\n",
       "</div>"
      ],
      "text/plain": [
       "                user_id  first_date     region   device\n",
       "0      D72A72121175D8BE  2020-12-07         EU       PC\n",
       "1      F1C668619DFE6E65  2020-12-07  N.America  Android\n",
       "2      2E1BF1D4C37EA01F  2020-12-07         EU       PC\n",
       "3      50734A22C0C63768  2020-12-07         EU   iPhone\n",
       "4      E1BDDCE0DAFA2679  2020-12-07  N.America   iPhone\n",
       "...                 ...         ...        ...      ...\n",
       "58698  1DB53B933257165D  2020-12-20         EU  Android\n",
       "58699  538643EB4527ED03  2020-12-20         EU      Mac\n",
       "58700  7ADEE837D5D8CBBD  2020-12-20         EU       PC\n",
       "58701  1C7D23927835213F  2020-12-20         EU   iPhone\n",
       "58702  8F04273BB2860229  2020-12-20         EU  Android\n",
       "\n",
       "[58703 rows x 4 columns]"
      ]
     },
     "execution_count": 4,
     "metadata": {},
     "output_type": "execute_result"
    }
   ],
   "source": [
    "users_data = pd.read_csv('./datasets/final_ab_new_users_upd_us.csv')\n",
    "users_data"
   ]
  },
  {
   "cell_type": "code",
   "execution_count": 5,
   "id": "ea1047d2",
   "metadata": {},
   "outputs": [
    {
     "data": {
      "text/html": [
       "<div>\n",
       "<style scoped>\n",
       "    .dataframe tbody tr th:only-of-type {\n",
       "        vertical-align: middle;\n",
       "    }\n",
       "\n",
       "    .dataframe tbody tr th {\n",
       "        vertical-align: top;\n",
       "    }\n",
       "\n",
       "    .dataframe thead th {\n",
       "        text-align: right;\n",
       "    }\n",
       "</style>\n",
       "<table border=\"1\" class=\"dataframe\">\n",
       "  <thead>\n",
       "    <tr style=\"text-align: right;\">\n",
       "      <th></th>\n",
       "      <th>user_id</th>\n",
       "      <th>event_dt</th>\n",
       "      <th>event_name</th>\n",
       "      <th>details</th>\n",
       "    </tr>\n",
       "  </thead>\n",
       "  <tbody>\n",
       "    <tr>\n",
       "      <th>0</th>\n",
       "      <td>E1BDDCE0DAFA2679</td>\n",
       "      <td>2020-12-07 20:22:03</td>\n",
       "      <td>purchase</td>\n",
       "      <td>99.99</td>\n",
       "    </tr>\n",
       "    <tr>\n",
       "      <th>1</th>\n",
       "      <td>7B6452F081F49504</td>\n",
       "      <td>2020-12-07 09:22:53</td>\n",
       "      <td>purchase</td>\n",
       "      <td>9.99</td>\n",
       "    </tr>\n",
       "    <tr>\n",
       "      <th>2</th>\n",
       "      <td>9CD9F34546DF254C</td>\n",
       "      <td>2020-12-07 12:59:29</td>\n",
       "      <td>purchase</td>\n",
       "      <td>4.99</td>\n",
       "    </tr>\n",
       "    <tr>\n",
       "      <th>3</th>\n",
       "      <td>96F27A054B191457</td>\n",
       "      <td>2020-12-07 04:02:40</td>\n",
       "      <td>purchase</td>\n",
       "      <td>4.99</td>\n",
       "    </tr>\n",
       "    <tr>\n",
       "      <th>4</th>\n",
       "      <td>1FD7660FDF94CA1F</td>\n",
       "      <td>2020-12-07 10:15:09</td>\n",
       "      <td>purchase</td>\n",
       "      <td>4.99</td>\n",
       "    </tr>\n",
       "    <tr>\n",
       "      <th>...</th>\n",
       "      <td>...</td>\n",
       "      <td>...</td>\n",
       "      <td>...</td>\n",
       "      <td>...</td>\n",
       "    </tr>\n",
       "    <tr>\n",
       "      <th>423756</th>\n",
       "      <td>245E85F65C358E08</td>\n",
       "      <td>2020-12-30 19:35:55</td>\n",
       "      <td>login</td>\n",
       "      <td>NaN</td>\n",
       "    </tr>\n",
       "    <tr>\n",
       "      <th>423757</th>\n",
       "      <td>9385A108F5A0A7A7</td>\n",
       "      <td>2020-12-30 10:54:15</td>\n",
       "      <td>login</td>\n",
       "      <td>NaN</td>\n",
       "    </tr>\n",
       "    <tr>\n",
       "      <th>423758</th>\n",
       "      <td>DB650B7559AC6EAC</td>\n",
       "      <td>2020-12-30 10:59:09</td>\n",
       "      <td>login</td>\n",
       "      <td>NaN</td>\n",
       "    </tr>\n",
       "    <tr>\n",
       "      <th>423759</th>\n",
       "      <td>F80C9BDDEA02E53C</td>\n",
       "      <td>2020-12-30 09:53:39</td>\n",
       "      <td>login</td>\n",
       "      <td>NaN</td>\n",
       "    </tr>\n",
       "    <tr>\n",
       "      <th>423760</th>\n",
       "      <td>7AEC61159B672CC5</td>\n",
       "      <td>2020-12-30 11:36:13</td>\n",
       "      <td>login</td>\n",
       "      <td>NaN</td>\n",
       "    </tr>\n",
       "  </tbody>\n",
       "</table>\n",
       "<p>423761 rows × 4 columns</p>\n",
       "</div>"
      ],
      "text/plain": [
       "                 user_id             event_dt event_name  details\n",
       "0       E1BDDCE0DAFA2679  2020-12-07 20:22:03   purchase    99.99\n",
       "1       7B6452F081F49504  2020-12-07 09:22:53   purchase     9.99\n",
       "2       9CD9F34546DF254C  2020-12-07 12:59:29   purchase     4.99\n",
       "3       96F27A054B191457  2020-12-07 04:02:40   purchase     4.99\n",
       "4       1FD7660FDF94CA1F  2020-12-07 10:15:09   purchase     4.99\n",
       "...                  ...                  ...        ...      ...\n",
       "423756  245E85F65C358E08  2020-12-30 19:35:55      login      NaN\n",
       "423757  9385A108F5A0A7A7  2020-12-30 10:54:15      login      NaN\n",
       "423758  DB650B7559AC6EAC  2020-12-30 10:59:09      login      NaN\n",
       "423759  F80C9BDDEA02E53C  2020-12-30 09:53:39      login      NaN\n",
       "423760  7AEC61159B672CC5  2020-12-30 11:36:13      login      NaN\n",
       "\n",
       "[423761 rows x 4 columns]"
      ]
     },
     "execution_count": 5,
     "metadata": {},
     "output_type": "execute_result"
    }
   ],
   "source": [
    "events_data = pd.read_csv('./datasets/final_ab_events_upd_us.csv')\n",
    "events_data"
   ]
  },
  {
   "cell_type": "code",
   "execution_count": 6,
   "id": "e1d9af70",
   "metadata": {},
   "outputs": [
    {
     "data": {
      "text/html": [
       "<div>\n",
       "<style scoped>\n",
       "    .dataframe tbody tr th:only-of-type {\n",
       "        vertical-align: middle;\n",
       "    }\n",
       "\n",
       "    .dataframe tbody tr th {\n",
       "        vertical-align: top;\n",
       "    }\n",
       "\n",
       "    .dataframe thead th {\n",
       "        text-align: right;\n",
       "    }\n",
       "</style>\n",
       "<table border=\"1\" class=\"dataframe\">\n",
       "  <thead>\n",
       "    <tr style=\"text-align: right;\">\n",
       "      <th></th>\n",
       "      <th>user_id</th>\n",
       "      <th>group</th>\n",
       "      <th>ab_test</th>\n",
       "    </tr>\n",
       "  </thead>\n",
       "  <tbody>\n",
       "    <tr>\n",
       "      <th>0</th>\n",
       "      <td>D1ABA3E2887B6A73</td>\n",
       "      <td>A</td>\n",
       "      <td>recommender_system_test</td>\n",
       "    </tr>\n",
       "    <tr>\n",
       "      <th>1</th>\n",
       "      <td>A7A3664BD6242119</td>\n",
       "      <td>A</td>\n",
       "      <td>recommender_system_test</td>\n",
       "    </tr>\n",
       "    <tr>\n",
       "      <th>2</th>\n",
       "      <td>DABC14FDDFADD29E</td>\n",
       "      <td>A</td>\n",
       "      <td>recommender_system_test</td>\n",
       "    </tr>\n",
       "    <tr>\n",
       "      <th>3</th>\n",
       "      <td>04988C5DF189632E</td>\n",
       "      <td>A</td>\n",
       "      <td>recommender_system_test</td>\n",
       "    </tr>\n",
       "    <tr>\n",
       "      <th>4</th>\n",
       "      <td>4FF2998A348C484F</td>\n",
       "      <td>A</td>\n",
       "      <td>recommender_system_test</td>\n",
       "    </tr>\n",
       "    <tr>\n",
       "      <th>...</th>\n",
       "      <td>...</td>\n",
       "      <td>...</td>\n",
       "      <td>...</td>\n",
       "    </tr>\n",
       "    <tr>\n",
       "      <th>14520</th>\n",
       "      <td>1D302F8688B91781</td>\n",
       "      <td>B</td>\n",
       "      <td>interface_eu_test</td>\n",
       "    </tr>\n",
       "    <tr>\n",
       "      <th>14521</th>\n",
       "      <td>3DE51B726983B657</td>\n",
       "      <td>A</td>\n",
       "      <td>interface_eu_test</td>\n",
       "    </tr>\n",
       "    <tr>\n",
       "      <th>14522</th>\n",
       "      <td>F501F79D332BE86C</td>\n",
       "      <td>A</td>\n",
       "      <td>interface_eu_test</td>\n",
       "    </tr>\n",
       "    <tr>\n",
       "      <th>14523</th>\n",
       "      <td>63FBE257B05F2245</td>\n",
       "      <td>A</td>\n",
       "      <td>interface_eu_test</td>\n",
       "    </tr>\n",
       "    <tr>\n",
       "      <th>14524</th>\n",
       "      <td>79F9ABFB029CF724</td>\n",
       "      <td>B</td>\n",
       "      <td>interface_eu_test</td>\n",
       "    </tr>\n",
       "  </tbody>\n",
       "</table>\n",
       "<p>14525 rows × 3 columns</p>\n",
       "</div>"
      ],
      "text/plain": [
       "                user_id group                  ab_test\n",
       "0      D1ABA3E2887B6A73     A  recommender_system_test\n",
       "1      A7A3664BD6242119     A  recommender_system_test\n",
       "2      DABC14FDDFADD29E     A  recommender_system_test\n",
       "3      04988C5DF189632E     A  recommender_system_test\n",
       "4      4FF2998A348C484F     A  recommender_system_test\n",
       "...                 ...   ...                      ...\n",
       "14520  1D302F8688B91781     B        interface_eu_test\n",
       "14521  3DE51B726983B657     A        interface_eu_test\n",
       "14522  F501F79D332BE86C     A        interface_eu_test\n",
       "14523  63FBE257B05F2245     A        interface_eu_test\n",
       "14524  79F9ABFB029CF724     B        interface_eu_test\n",
       "\n",
       "[14525 rows x 3 columns]"
      ]
     },
     "execution_count": 6,
     "metadata": {},
     "output_type": "execute_result"
    }
   ],
   "source": [
    "test_data = pd.read_csv('./datasets/final_ab_participants_upd_us.csv')\n",
    "test_data"
   ]
  },
  {
   "cell_type": "markdown",
   "id": "1dca5fe2",
   "metadata": {},
   "source": [
    "# Exploración inicial de los datos"
   ]
  },
  {
   "cell_type": "markdown",
   "id": "2f749555",
   "metadata": {},
   "source": [
    "**Exploración y cambios para el set de datos first_events_data**"
   ]
  },
  {
   "cell_type": "code",
   "execution_count": 7,
   "id": "44d3c636",
   "metadata": {},
   "outputs": [
    {
     "name": "stdout",
     "output_type": "stream",
     "text": [
      "<class 'pandas.core.frame.DataFrame'>\n",
      "RangeIndex: 14 entries, 0 to 13\n",
      "Data columns (total 4 columns):\n",
      " #   Column     Non-Null Count  Dtype \n",
      "---  ------     --------------  ----- \n",
      " 0   name       14 non-null     object\n",
      " 1   regions    14 non-null     object\n",
      " 2   start_dt   14 non-null     object\n",
      " 3   finish_dt  14 non-null     object\n",
      "dtypes: object(4)\n",
      "memory usage: 580.0+ bytes\n"
     ]
    }
   ],
   "source": [
    "first_events_data.info()"
   ]
  },
  {
   "cell_type": "markdown",
   "id": "d9d0c225",
   "metadata": {},
   "source": [
    "En este caso vemos que las columnas start_dt y finish_dt pueden ser cambiadas a formato datetime64 para un mejor manejo."
   ]
  },
  {
   "cell_type": "code",
   "execution_count": 8,
   "id": "ad68545c",
   "metadata": {},
   "outputs": [
    {
     "name": "stdout",
     "output_type": "stream",
     "text": [
      "<class 'pandas.core.frame.DataFrame'>\n",
      "RangeIndex: 14 entries, 0 to 13\n",
      "Data columns (total 4 columns):\n",
      " #   Column     Non-Null Count  Dtype         \n",
      "---  ------     --------------  -----         \n",
      " 0   name       14 non-null     object        \n",
      " 1   regions    14 non-null     object        \n",
      " 2   start_dt   14 non-null     datetime64[ns]\n",
      " 3   finish_dt  14 non-null     datetime64[ns]\n",
      "dtypes: datetime64[ns](2), object(2)\n",
      "memory usage: 580.0+ bytes\n"
     ]
    }
   ],
   "source": [
    "#haciendo el cambio de ambas columans a formato datetime\n",
    "first_events_data['start_dt'] = pd.to_datetime(first_events_data['start_dt'])\n",
    "first_events_data['finish_dt'] = pd.to_datetime(first_events_data['finish_dt'])\n",
    "first_events_data.info()"
   ]
  },
  {
   "cell_type": "code",
   "execution_count": 9,
   "id": "219d2bac",
   "metadata": {},
   "outputs": [
    {
     "data": {
      "text/plain": [
       "0"
      ]
     },
     "execution_count": 9,
     "metadata": {},
     "output_type": "execute_result"
    }
   ],
   "source": [
    "first_events_data.duplicated().sum()"
   ]
  },
  {
   "cell_type": "markdown",
   "id": "3a7d6013",
   "metadata": {},
   "source": [
    "**Exploración y cambios para el set de datos users_data**"
   ]
  },
  {
   "cell_type": "code",
   "execution_count": 10,
   "id": "03fa19ec",
   "metadata": {},
   "outputs": [
    {
     "name": "stdout",
     "output_type": "stream",
     "text": [
      "<class 'pandas.core.frame.DataFrame'>\n",
      "RangeIndex: 58703 entries, 0 to 58702\n",
      "Data columns (total 4 columns):\n",
      " #   Column      Non-Null Count  Dtype \n",
      "---  ------      --------------  ----- \n",
      " 0   user_id     58703 non-null  object\n",
      " 1   first_date  58703 non-null  object\n",
      " 2   region      58703 non-null  object\n",
      " 3   device      58703 non-null  object\n",
      "dtypes: object(4)\n",
      "memory usage: 1.8+ MB\n"
     ]
    }
   ],
   "source": [
    "users_data.info()"
   ]
  },
  {
   "cell_type": "markdown",
   "id": "800987b7",
   "metadata": {},
   "source": [
    "Encontramos que el set de datos users_data tiene la columna first_date que se puede cambiar a formato datetime para un manejo más sencillo."
   ]
  },
  {
   "cell_type": "code",
   "execution_count": 11,
   "id": "39611f59",
   "metadata": {},
   "outputs": [
    {
     "name": "stdout",
     "output_type": "stream",
     "text": [
      "<class 'pandas.core.frame.DataFrame'>\n",
      "RangeIndex: 58703 entries, 0 to 58702\n",
      "Data columns (total 4 columns):\n",
      " #   Column      Non-Null Count  Dtype         \n",
      "---  ------      --------------  -----         \n",
      " 0   user_id     58703 non-null  object        \n",
      " 1   first_date  58703 non-null  datetime64[ns]\n",
      " 2   region      58703 non-null  object        \n",
      " 3   device      58703 non-null  object        \n",
      "dtypes: datetime64[ns](1), object(3)\n",
      "memory usage: 1.8+ MB\n"
     ]
    }
   ],
   "source": [
    "#cambiando columna first_date a formato datetime\n",
    "users_data['first_date'] = pd.to_datetime(users_data['first_date'])\n",
    "users_data.info()"
   ]
  },
  {
   "cell_type": "code",
   "execution_count": 12,
   "id": "ee77da09",
   "metadata": {},
   "outputs": [
    {
     "data": {
      "text/plain": [
       "0"
      ]
     },
     "execution_count": 12,
     "metadata": {},
     "output_type": "execute_result"
    }
   ],
   "source": [
    "users_data.duplicated().sum()"
   ]
  },
  {
   "cell_type": "markdown",
   "id": "9addf09f",
   "metadata": {},
   "source": [
    "**Exploración y cambios para el set de datos events_data**"
   ]
  },
  {
   "cell_type": "code",
   "execution_count": 13,
   "id": "39266cf8",
   "metadata": {},
   "outputs": [
    {
     "name": "stdout",
     "output_type": "stream",
     "text": [
      "<class 'pandas.core.frame.DataFrame'>\n",
      "RangeIndex: 423761 entries, 0 to 423760\n",
      "Data columns (total 4 columns):\n",
      " #   Column      Non-Null Count   Dtype  \n",
      "---  ------      --------------   -----  \n",
      " 0   user_id     423761 non-null  object \n",
      " 1   event_dt    423761 non-null  object \n",
      " 2   event_name  423761 non-null  object \n",
      " 3   details     60314 non-null   float64\n",
      "dtypes: float64(1), object(3)\n",
      "memory usage: 12.9+ MB\n"
     ]
    }
   ],
   "source": [
    "events_data.info()"
   ]
  },
  {
   "cell_type": "markdown",
   "id": "51d418a6",
   "metadata": {},
   "source": [
    "La columna event_dt puede ser cambiada a tipo date_time para simplificar el analisis."
   ]
  },
  {
   "cell_type": "code",
   "execution_count": 14,
   "id": "b59b201a",
   "metadata": {},
   "outputs": [
    {
     "name": "stdout",
     "output_type": "stream",
     "text": [
      "<class 'pandas.core.frame.DataFrame'>\n",
      "RangeIndex: 423761 entries, 0 to 423760\n",
      "Data columns (total 4 columns):\n",
      " #   Column      Non-Null Count   Dtype         \n",
      "---  ------      --------------   -----         \n",
      " 0   user_id     423761 non-null  object        \n",
      " 1   event_dt    423761 non-null  datetime64[ns]\n",
      " 2   event_name  423761 non-null  object        \n",
      " 3   details     60314 non-null   float64       \n",
      "dtypes: datetime64[ns](1), float64(1), object(2)\n",
      "memory usage: 12.9+ MB\n"
     ]
    }
   ],
   "source": [
    "#haciendo el cambio de event_dt a tipo datetime\n",
    "events_data['event_dt'] = pd.to_datetime(events_data['event_dt'])\n",
    "events_data.info()"
   ]
  },
  {
   "cell_type": "code",
   "execution_count": 15,
   "id": "9f9a86b2",
   "metadata": {},
   "outputs": [
    {
     "data": {
      "text/plain": [
       "0"
      ]
     },
     "execution_count": 15,
     "metadata": {},
     "output_type": "execute_result"
    }
   ],
   "source": [
    "events_data.duplicated().sum()"
   ]
  },
  {
   "cell_type": "markdown",
   "id": "cc182d45",
   "metadata": {},
   "source": [
    "**Exploración y cambios para el set de datos test_data**"
   ]
  },
  {
   "cell_type": "code",
   "execution_count": 16,
   "id": "d7680906",
   "metadata": {},
   "outputs": [
    {
     "name": "stdout",
     "output_type": "stream",
     "text": [
      "<class 'pandas.core.frame.DataFrame'>\n",
      "RangeIndex: 14525 entries, 0 to 14524\n",
      "Data columns (total 3 columns):\n",
      " #   Column   Non-Null Count  Dtype \n",
      "---  ------   --------------  ----- \n",
      " 0   user_id  14525 non-null  object\n",
      " 1   group    14525 non-null  object\n",
      " 2   ab_test  14525 non-null  object\n",
      "dtypes: object(3)\n",
      "memory usage: 340.6+ KB\n"
     ]
    }
   ],
   "source": [
    "test_data.info()"
   ]
  },
  {
   "cell_type": "code",
   "execution_count": 17,
   "id": "a8d5c87b",
   "metadata": {},
   "outputs": [
    {
     "data": {
      "text/plain": [
       "0"
      ]
     },
     "execution_count": 17,
     "metadata": {},
     "output_type": "execute_result"
    }
   ],
   "source": [
    "test_data.duplicated().sum()"
   ]
  },
  {
   "cell_type": "markdown",
   "id": "0df9e15b",
   "metadata": {},
   "source": [
    "En este último set de datos no necesitamos hacer ningún cambio."
   ]
  },
  {
   "cell_type": "markdown",
   "id": "c23158f7",
   "metadata": {},
   "source": [
    "Hemos hecho cambios a formato datetime en las columnas que necesitaban este cambio, y no hemos encontrado ningún duplicado en ningún set de datos y únicamente se encontraron valores nulos en la columna details del set de datos events_data que contiene detalles adicionales sobre el evento."
   ]
  },
  {
   "cell_type": "markdown",
   "id": "226c061e",
   "metadata": {},
   "source": [
    "# Analisis exploratorio de datos"
   ]
  },
  {
   "cell_type": "code",
   "execution_count": 22,
   "id": "d9864b56",
   "metadata": {},
   "outputs": [
    {
     "name": "stdout",
     "output_type": "stream",
     "text": [
      "                user_id group                  ab_test\n",
      "0      D1ABA3E2887B6A73     A  recommender_system_test\n",
      "1      A7A3664BD6242119     A  recommender_system_test\n",
      "4      4FF2998A348C484F     A  recommender_system_test\n",
      "5      7473E0943673C09E     A  recommender_system_test\n",
      "6      C46FE336D240A054     A  recommender_system_test\n",
      "...                 ...   ...                      ...\n",
      "14520  1D302F8688B91781     B        interface_eu_test\n",
      "14521  3DE51B726983B657     A        interface_eu_test\n",
      "14522  F501F79D332BE86C     A        interface_eu_test\n",
      "14523  63FBE257B05F2245     A        interface_eu_test\n",
      "14524  79F9ABFB029CF724     B        interface_eu_test\n",
      "\n",
      "[12751 rows x 3 columns]\n"
     ]
    }
   ],
   "source": [
    "#creando df con los usaurios que se encuentran en ambos grupos\n",
    "\n",
    "#users_to_remove = test_data[test_data['ab_test'].isin(['recommender_system_test', 'interface_eu_test'])].groupby('user_id').filter(lambda x: len(x) > 1)['user_id'].unique()\n",
    "\n",
    "# Eliminamos los usuarios del dataframe original\n",
    "test_data = test_data[~test_data['user_id'].isin(users_to_remove)]\n",
    "\n",
    "# Mostramos el dataframe resultante\n",
    "print(test_data)"
   ]
  },
  {
   "cell_type": "code",
   "execution_count": 23,
   "id": "74238d07",
   "metadata": {},
   "outputs": [
    {
     "data": {
      "text/html": [
       "<div>\n",
       "<style scoped>\n",
       "    .dataframe tbody tr th:only-of-type {\n",
       "        vertical-align: middle;\n",
       "    }\n",
       "\n",
       "    .dataframe tbody tr th {\n",
       "        vertical-align: top;\n",
       "    }\n",
       "\n",
       "    .dataframe thead th {\n",
       "        text-align: right;\n",
       "    }\n",
       "</style>\n",
       "<table border=\"1\" class=\"dataframe\">\n",
       "  <thead>\n",
       "    <tr style=\"text-align: right;\">\n",
       "      <th></th>\n",
       "      <th>user_id</th>\n",
       "      <th>group</th>\n",
       "      <th>ab_test</th>\n",
       "    </tr>\n",
       "  </thead>\n",
       "  <tbody>\n",
       "    <tr>\n",
       "      <th>0</th>\n",
       "      <td>D1ABA3E2887B6A73</td>\n",
       "      <td>A</td>\n",
       "      <td>recommender_system_test</td>\n",
       "    </tr>\n",
       "    <tr>\n",
       "      <th>1</th>\n",
       "      <td>A7A3664BD6242119</td>\n",
       "      <td>A</td>\n",
       "      <td>recommender_system_test</td>\n",
       "    </tr>\n",
       "    <tr>\n",
       "      <th>4</th>\n",
       "      <td>4FF2998A348C484F</td>\n",
       "      <td>A</td>\n",
       "      <td>recommender_system_test</td>\n",
       "    </tr>\n",
       "    <tr>\n",
       "      <th>5</th>\n",
       "      <td>7473E0943673C09E</td>\n",
       "      <td>A</td>\n",
       "      <td>recommender_system_test</td>\n",
       "    </tr>\n",
       "    <tr>\n",
       "      <th>6</th>\n",
       "      <td>C46FE336D240A054</td>\n",
       "      <td>A</td>\n",
       "      <td>recommender_system_test</td>\n",
       "    </tr>\n",
       "    <tr>\n",
       "      <th>...</th>\n",
       "      <td>...</td>\n",
       "      <td>...</td>\n",
       "      <td>...</td>\n",
       "    </tr>\n",
       "    <tr>\n",
       "      <th>3670</th>\n",
       "      <td>053FB26D6D49EDDC</td>\n",
       "      <td>A</td>\n",
       "      <td>recommender_system_test</td>\n",
       "    </tr>\n",
       "    <tr>\n",
       "      <th>3671</th>\n",
       "      <td>9D263B8EF15CF188</td>\n",
       "      <td>B</td>\n",
       "      <td>recommender_system_test</td>\n",
       "    </tr>\n",
       "    <tr>\n",
       "      <th>3672</th>\n",
       "      <td>F2FBBA33F37DEC46</td>\n",
       "      <td>A</td>\n",
       "      <td>recommender_system_test</td>\n",
       "    </tr>\n",
       "    <tr>\n",
       "      <th>3673</th>\n",
       "      <td>29C92313A98B1176</td>\n",
       "      <td>B</td>\n",
       "      <td>recommender_system_test</td>\n",
       "    </tr>\n",
       "    <tr>\n",
       "      <th>3674</th>\n",
       "      <td>6715343AFBA285AE</td>\n",
       "      <td>B</td>\n",
       "      <td>recommender_system_test</td>\n",
       "    </tr>\n",
       "  </tbody>\n",
       "</table>\n",
       "<p>2788 rows × 3 columns</p>\n",
       "</div>"
      ],
      "text/plain": [
       "               user_id group                  ab_test\n",
       "0     D1ABA3E2887B6A73     A  recommender_system_test\n",
       "1     A7A3664BD6242119     A  recommender_system_test\n",
       "4     4FF2998A348C484F     A  recommender_system_test\n",
       "5     7473E0943673C09E     A  recommender_system_test\n",
       "6     C46FE336D240A054     A  recommender_system_test\n",
       "...                ...   ...                      ...\n",
       "3670  053FB26D6D49EDDC     A  recommender_system_test\n",
       "3671  9D263B8EF15CF188     B  recommender_system_test\n",
       "3672  F2FBBA33F37DEC46     A  recommender_system_test\n",
       "3673  29C92313A98B1176     B  recommender_system_test\n",
       "3674  6715343AFBA285AE     B  recommender_system_test\n",
       "\n",
       "[2788 rows x 3 columns]"
      ]
     },
     "execution_count": 23,
     "metadata": {},
     "output_type": "execute_result"
    }
   ],
   "source": [
    "new_test_data = test_data.query('ab_test == \"recommender_system_test\"')\n",
    "new_test_data"
   ]
  },
  {
   "cell_type": "code",
   "execution_count": 24,
   "id": "6ef743d0",
   "metadata": {},
   "outputs": [
    {
     "data": {
      "text/html": [
       "<div>\n",
       "<style scoped>\n",
       "    .dataframe tbody tr th:only-of-type {\n",
       "        vertical-align: middle;\n",
       "    }\n",
       "\n",
       "    .dataframe tbody tr th {\n",
       "        vertical-align: top;\n",
       "    }\n",
       "\n",
       "    .dataframe thead th {\n",
       "        text-align: right;\n",
       "    }\n",
       "</style>\n",
       "<table border=\"1\" class=\"dataframe\">\n",
       "  <thead>\n",
       "    <tr style=\"text-align: right;\">\n",
       "      <th></th>\n",
       "      <th>user_id</th>\n",
       "      <th>group</th>\n",
       "      <th>ab_test</th>\n",
       "      <th>event_dt</th>\n",
       "      <th>event_name</th>\n",
       "      <th>details</th>\n",
       "    </tr>\n",
       "  </thead>\n",
       "  <tbody>\n",
       "    <tr>\n",
       "      <th>0</th>\n",
       "      <td>D1ABA3E2887B6A73</td>\n",
       "      <td>A</td>\n",
       "      <td>recommender_system_test</td>\n",
       "      <td>2020-12-07 14:43:27</td>\n",
       "      <td>purchase</td>\n",
       "      <td>99.99</td>\n",
       "    </tr>\n",
       "    <tr>\n",
       "      <th>1</th>\n",
       "      <td>D1ABA3E2887B6A73</td>\n",
       "      <td>A</td>\n",
       "      <td>recommender_system_test</td>\n",
       "      <td>2020-12-07 14:43:29</td>\n",
       "      <td>product_cart</td>\n",
       "      <td>NaN</td>\n",
       "    </tr>\n",
       "    <tr>\n",
       "      <th>2</th>\n",
       "      <td>D1ABA3E2887B6A73</td>\n",
       "      <td>A</td>\n",
       "      <td>recommender_system_test</td>\n",
       "      <td>2020-12-07 14:43:27</td>\n",
       "      <td>product_page</td>\n",
       "      <td>NaN</td>\n",
       "    </tr>\n",
       "    <tr>\n",
       "      <th>3</th>\n",
       "      <td>D1ABA3E2887B6A73</td>\n",
       "      <td>A</td>\n",
       "      <td>recommender_system_test</td>\n",
       "      <td>2020-12-07 14:43:27</td>\n",
       "      <td>login</td>\n",
       "      <td>NaN</td>\n",
       "    </tr>\n",
       "    <tr>\n",
       "      <th>4</th>\n",
       "      <td>A7A3664BD6242119</td>\n",
       "      <td>A</td>\n",
       "      <td>recommender_system_test</td>\n",
       "      <td>2020-12-20 15:46:06</td>\n",
       "      <td>product_page</td>\n",
       "      <td>NaN</td>\n",
       "    </tr>\n",
       "    <tr>\n",
       "      <th>...</th>\n",
       "      <td>...</td>\n",
       "      <td>...</td>\n",
       "      <td>...</td>\n",
       "      <td>...</td>\n",
       "      <td>...</td>\n",
       "      <td>...</td>\n",
       "    </tr>\n",
       "    <tr>\n",
       "      <th>18189</th>\n",
       "      <td>6715343AFBA285AE</td>\n",
       "      <td>B</td>\n",
       "      <td>recommender_system_test</td>\n",
       "      <td>2020-12-07 10:12:15</td>\n",
       "      <td>login</td>\n",
       "      <td>NaN</td>\n",
       "    </tr>\n",
       "    <tr>\n",
       "      <th>18190</th>\n",
       "      <td>6715343AFBA285AE</td>\n",
       "      <td>B</td>\n",
       "      <td>recommender_system_test</td>\n",
       "      <td>2020-12-08 22:51:16</td>\n",
       "      <td>login</td>\n",
       "      <td>NaN</td>\n",
       "    </tr>\n",
       "    <tr>\n",
       "      <th>18191</th>\n",
       "      <td>6715343AFBA285AE</td>\n",
       "      <td>B</td>\n",
       "      <td>recommender_system_test</td>\n",
       "      <td>2020-12-09 02:28:03</td>\n",
       "      <td>login</td>\n",
       "      <td>NaN</td>\n",
       "    </tr>\n",
       "    <tr>\n",
       "      <th>18192</th>\n",
       "      <td>6715343AFBA285AE</td>\n",
       "      <td>B</td>\n",
       "      <td>recommender_system_test</td>\n",
       "      <td>2020-12-10 22:55:14</td>\n",
       "      <td>login</td>\n",
       "      <td>NaN</td>\n",
       "    </tr>\n",
       "    <tr>\n",
       "      <th>18193</th>\n",
       "      <td>6715343AFBA285AE</td>\n",
       "      <td>B</td>\n",
       "      <td>recommender_system_test</td>\n",
       "      <td>2020-12-14 12:40:41</td>\n",
       "      <td>login</td>\n",
       "      <td>NaN</td>\n",
       "    </tr>\n",
       "  </tbody>\n",
       "</table>\n",
       "<p>18194 rows × 6 columns</p>\n",
       "</div>"
      ],
      "text/plain": [
       "                user_id group                  ab_test            event_dt  \\\n",
       "0      D1ABA3E2887B6A73     A  recommender_system_test 2020-12-07 14:43:27   \n",
       "1      D1ABA3E2887B6A73     A  recommender_system_test 2020-12-07 14:43:29   \n",
       "2      D1ABA3E2887B6A73     A  recommender_system_test 2020-12-07 14:43:27   \n",
       "3      D1ABA3E2887B6A73     A  recommender_system_test 2020-12-07 14:43:27   \n",
       "4      A7A3664BD6242119     A  recommender_system_test 2020-12-20 15:46:06   \n",
       "...                 ...   ...                      ...                 ...   \n",
       "18189  6715343AFBA285AE     B  recommender_system_test 2020-12-07 10:12:15   \n",
       "18190  6715343AFBA285AE     B  recommender_system_test 2020-12-08 22:51:16   \n",
       "18191  6715343AFBA285AE     B  recommender_system_test 2020-12-09 02:28:03   \n",
       "18192  6715343AFBA285AE     B  recommender_system_test 2020-12-10 22:55:14   \n",
       "18193  6715343AFBA285AE     B  recommender_system_test 2020-12-14 12:40:41   \n",
       "\n",
       "         event_name  details  \n",
       "0          purchase    99.99  \n",
       "1      product_cart      NaN  \n",
       "2      product_page      NaN  \n",
       "3             login      NaN  \n",
       "4      product_page      NaN  \n",
       "...             ...      ...  \n",
       "18189         login      NaN  \n",
       "18190         login      NaN  \n",
       "18191         login      NaN  \n",
       "18192         login      NaN  \n",
       "18193         login      NaN  \n",
       "\n",
       "[18194 rows x 6 columns]"
      ]
     },
     "execution_count": 24,
     "metadata": {},
     "output_type": "execute_result"
    }
   ],
   "source": [
    "new_test_data = new_test_data.merge(events_data, on='user_id', how='left')\n",
    "new_test_data"
   ]
  },
  {
   "cell_type": "code",
   "execution_count": 25,
   "id": "aefc18e1",
   "metadata": {},
   "outputs": [
    {
     "data": {
      "text/html": [
       "<div>\n",
       "<style scoped>\n",
       "    .dataframe tbody tr th:only-of-type {\n",
       "        vertical-align: middle;\n",
       "    }\n",
       "\n",
       "    .dataframe tbody tr th {\n",
       "        vertical-align: top;\n",
       "    }\n",
       "\n",
       "    .dataframe thead th {\n",
       "        text-align: right;\n",
       "    }\n",
       "</style>\n",
       "<table border=\"1\" class=\"dataframe\">\n",
       "  <thead>\n",
       "    <tr style=\"text-align: right;\">\n",
       "      <th></th>\n",
       "      <th>user_id</th>\n",
       "      <th>group</th>\n",
       "      <th>ab_test</th>\n",
       "      <th>event_dt</th>\n",
       "      <th>event_name</th>\n",
       "      <th>details</th>\n",
       "      <th>first_date</th>\n",
       "      <th>region</th>\n",
       "      <th>device</th>\n",
       "    </tr>\n",
       "  </thead>\n",
       "  <tbody>\n",
       "    <tr>\n",
       "      <th>0</th>\n",
       "      <td>D1ABA3E2887B6A73</td>\n",
       "      <td>A</td>\n",
       "      <td>recommender_system_test</td>\n",
       "      <td>2020-12-07 14:43:27</td>\n",
       "      <td>purchase</td>\n",
       "      <td>99.99</td>\n",
       "      <td>2020-12-07</td>\n",
       "      <td>EU</td>\n",
       "      <td>PC</td>\n",
       "    </tr>\n",
       "    <tr>\n",
       "      <th>1</th>\n",
       "      <td>D1ABA3E2887B6A73</td>\n",
       "      <td>A</td>\n",
       "      <td>recommender_system_test</td>\n",
       "      <td>2020-12-07 14:43:29</td>\n",
       "      <td>product_cart</td>\n",
       "      <td>NaN</td>\n",
       "      <td>2020-12-07</td>\n",
       "      <td>EU</td>\n",
       "      <td>PC</td>\n",
       "    </tr>\n",
       "    <tr>\n",
       "      <th>2</th>\n",
       "      <td>D1ABA3E2887B6A73</td>\n",
       "      <td>A</td>\n",
       "      <td>recommender_system_test</td>\n",
       "      <td>2020-12-07 14:43:27</td>\n",
       "      <td>product_page</td>\n",
       "      <td>NaN</td>\n",
       "      <td>2020-12-07</td>\n",
       "      <td>EU</td>\n",
       "      <td>PC</td>\n",
       "    </tr>\n",
       "    <tr>\n",
       "      <th>3</th>\n",
       "      <td>D1ABA3E2887B6A73</td>\n",
       "      <td>A</td>\n",
       "      <td>recommender_system_test</td>\n",
       "      <td>2020-12-07 14:43:27</td>\n",
       "      <td>login</td>\n",
       "      <td>NaN</td>\n",
       "      <td>2020-12-07</td>\n",
       "      <td>EU</td>\n",
       "      <td>PC</td>\n",
       "    </tr>\n",
       "    <tr>\n",
       "      <th>4</th>\n",
       "      <td>A7A3664BD6242119</td>\n",
       "      <td>A</td>\n",
       "      <td>recommender_system_test</td>\n",
       "      <td>2020-12-20 15:46:06</td>\n",
       "      <td>product_page</td>\n",
       "      <td>NaN</td>\n",
       "      <td>2020-12-20</td>\n",
       "      <td>EU</td>\n",
       "      <td>iPhone</td>\n",
       "    </tr>\n",
       "    <tr>\n",
       "      <th>...</th>\n",
       "      <td>...</td>\n",
       "      <td>...</td>\n",
       "      <td>...</td>\n",
       "      <td>...</td>\n",
       "      <td>...</td>\n",
       "      <td>...</td>\n",
       "      <td>...</td>\n",
       "      <td>...</td>\n",
       "      <td>...</td>\n",
       "    </tr>\n",
       "    <tr>\n",
       "      <th>18189</th>\n",
       "      <td>6715343AFBA285AE</td>\n",
       "      <td>B</td>\n",
       "      <td>recommender_system_test</td>\n",
       "      <td>2020-12-07 10:12:15</td>\n",
       "      <td>login</td>\n",
       "      <td>NaN</td>\n",
       "      <td>2020-12-07</td>\n",
       "      <td>CIS</td>\n",
       "      <td>Android</td>\n",
       "    </tr>\n",
       "    <tr>\n",
       "      <th>18190</th>\n",
       "      <td>6715343AFBA285AE</td>\n",
       "      <td>B</td>\n",
       "      <td>recommender_system_test</td>\n",
       "      <td>2020-12-08 22:51:16</td>\n",
       "      <td>login</td>\n",
       "      <td>NaN</td>\n",
       "      <td>2020-12-07</td>\n",
       "      <td>CIS</td>\n",
       "      <td>Android</td>\n",
       "    </tr>\n",
       "    <tr>\n",
       "      <th>18191</th>\n",
       "      <td>6715343AFBA285AE</td>\n",
       "      <td>B</td>\n",
       "      <td>recommender_system_test</td>\n",
       "      <td>2020-12-09 02:28:03</td>\n",
       "      <td>login</td>\n",
       "      <td>NaN</td>\n",
       "      <td>2020-12-07</td>\n",
       "      <td>CIS</td>\n",
       "      <td>Android</td>\n",
       "    </tr>\n",
       "    <tr>\n",
       "      <th>18192</th>\n",
       "      <td>6715343AFBA285AE</td>\n",
       "      <td>B</td>\n",
       "      <td>recommender_system_test</td>\n",
       "      <td>2020-12-10 22:55:14</td>\n",
       "      <td>login</td>\n",
       "      <td>NaN</td>\n",
       "      <td>2020-12-07</td>\n",
       "      <td>CIS</td>\n",
       "      <td>Android</td>\n",
       "    </tr>\n",
       "    <tr>\n",
       "      <th>18193</th>\n",
       "      <td>6715343AFBA285AE</td>\n",
       "      <td>B</td>\n",
       "      <td>recommender_system_test</td>\n",
       "      <td>2020-12-14 12:40:41</td>\n",
       "      <td>login</td>\n",
       "      <td>NaN</td>\n",
       "      <td>2020-12-07</td>\n",
       "      <td>CIS</td>\n",
       "      <td>Android</td>\n",
       "    </tr>\n",
       "  </tbody>\n",
       "</table>\n",
       "<p>18194 rows × 9 columns</p>\n",
       "</div>"
      ],
      "text/plain": [
       "                user_id group                  ab_test            event_dt  \\\n",
       "0      D1ABA3E2887B6A73     A  recommender_system_test 2020-12-07 14:43:27   \n",
       "1      D1ABA3E2887B6A73     A  recommender_system_test 2020-12-07 14:43:29   \n",
       "2      D1ABA3E2887B6A73     A  recommender_system_test 2020-12-07 14:43:27   \n",
       "3      D1ABA3E2887B6A73     A  recommender_system_test 2020-12-07 14:43:27   \n",
       "4      A7A3664BD6242119     A  recommender_system_test 2020-12-20 15:46:06   \n",
       "...                 ...   ...                      ...                 ...   \n",
       "18189  6715343AFBA285AE     B  recommender_system_test 2020-12-07 10:12:15   \n",
       "18190  6715343AFBA285AE     B  recommender_system_test 2020-12-08 22:51:16   \n",
       "18191  6715343AFBA285AE     B  recommender_system_test 2020-12-09 02:28:03   \n",
       "18192  6715343AFBA285AE     B  recommender_system_test 2020-12-10 22:55:14   \n",
       "18193  6715343AFBA285AE     B  recommender_system_test 2020-12-14 12:40:41   \n",
       "\n",
       "         event_name  details first_date region   device  \n",
       "0          purchase    99.99 2020-12-07     EU       PC  \n",
       "1      product_cart      NaN 2020-12-07     EU       PC  \n",
       "2      product_page      NaN 2020-12-07     EU       PC  \n",
       "3             login      NaN 2020-12-07     EU       PC  \n",
       "4      product_page      NaN 2020-12-20     EU   iPhone  \n",
       "...             ...      ...        ...    ...      ...  \n",
       "18189         login      NaN 2020-12-07    CIS  Android  \n",
       "18190         login      NaN 2020-12-07    CIS  Android  \n",
       "18191         login      NaN 2020-12-07    CIS  Android  \n",
       "18192         login      NaN 2020-12-07    CIS  Android  \n",
       "18193         login      NaN 2020-12-07    CIS  Android  \n",
       "\n",
       "[18194 rows x 9 columns]"
      ]
     },
     "execution_count": 25,
     "metadata": {},
     "output_type": "execute_result"
    }
   ],
   "source": [
    "new_test_data = new_test_data.merge(users_data, on='user_id', how='left')\n",
    "new_test_data"
   ]
  },
  {
   "cell_type": "code",
   "execution_count": 26,
   "id": "dcca0aa1",
   "metadata": {},
   "outputs": [
    {
     "name": "stdout",
     "output_type": "stream",
     "text": [
      "<class 'pandas.core.frame.DataFrame'>\n",
      "RangeIndex: 18194 entries, 0 to 18193\n",
      "Data columns (total 9 columns):\n",
      " #   Column      Non-Null Count  Dtype         \n",
      "---  ------      --------------  -----         \n",
      " 0   user_id     18194 non-null  object        \n",
      " 1   group       18194 non-null  object        \n",
      " 2   ab_test     18194 non-null  object        \n",
      " 3   event_dt    18194 non-null  datetime64[ns]\n",
      " 4   event_name  18194 non-null  object        \n",
      " 5   details     2390 non-null   float64       \n",
      " 6   first_date  18194 non-null  datetime64[ns]\n",
      " 7   region      18194 non-null  object        \n",
      " 8   device      18194 non-null  object        \n",
      "dtypes: datetime64[ns](2), float64(1), object(6)\n",
      "memory usage: 1.2+ MB\n"
     ]
    }
   ],
   "source": [
    "new_test_data.info()"
   ]
  },
  {
   "cell_type": "code",
   "execution_count": null,
   "id": "c3d87dfd",
   "metadata": {},
   "outputs": [],
   "source": [
    "print(new_test_data.dtypes)"
   ]
  },
  {
   "cell_type": "code",
   "execution_count": null,
   "id": "102fb213",
   "metadata": {},
   "outputs": [],
   "source": [
    "# Calculamos la diferencia en días directamente\n",
    "new_test_data['days_between_events'] = (new_test_data['event_dt'] - new_test_data['first_date']).dt.days\n",
    "\n",
    "# Filtramos los datos según las condiciones\n",
    "new_test_data = new_test_data.query('days_between_events <= 14 & first_date <= \"2021-01-01\" & region == \"EU\"')\n",
    "\n",
    "# Mostramos el resultado\n",
    "new_test_data"
   ]
  },
  {
   "cell_type": "markdown",
   "id": "11d6a6ef",
   "metadata": {},
   "source": [
    "# Funnel v2 "
   ]
  },
  {
   "cell_type": "code",
   "execution_count": 27,
   "id": "842fce52",
   "metadata": {},
   "outputs": [
    {
     "data": {
      "text/plain": [
       "event_name\n",
       "login           8233\n",
       "product_page    5114\n",
       "product_cart    2457\n",
       "purchase        2390\n",
       "Name: event_name, dtype: int64"
      ]
     },
     "execution_count": 27,
     "metadata": {},
     "output_type": "execute_result"
    }
   ],
   "source": [
    "new_test_data.groupby('event_name')['event_name'].count().sort_values(ascending=False)"
   ]
  },
  {
   "cell_type": "code",
   "execution_count": null,
   "id": "8d0cdab7",
   "metadata": {},
   "outputs": [],
   "source": []
  },
  {
   "cell_type": "markdown",
   "id": "a97f196d",
   "metadata": {},
   "source": [
    "# **Empezamos a crear el funnel** "
   ]
  },
  {
   "cell_type": "code",
   "execution_count": null,
   "id": "7d922e29",
   "metadata": {},
   "outputs": [],
   "source": [
    "events = new_test_data.pivot_table(index='user_id', columns='event_name', values='event_dt', aggfunc='min')\n",
    "events.head()"
   ]
  },
  {
   "cell_type": "code",
   "execution_count": null,
   "id": "feb343c9",
   "metadata": {},
   "outputs": [],
   "source": [
    "step_1 = ~events['login'].isna()\n",
    "step_2 = step_1 & (events['product_page'] > events['login'])\n",
    "step_3 = step_2 & (events['product_cart'] > events['product_page'])\n",
    "step_4 = step_3 & (events['purchase'] > events['product_cart'])\n",
    "\n",
    "n_login = events[step_1].shape[0]\n",
    "n_product_page = events[step_2].shape[0]\n",
    "n_product_cart = events[step_3].shape[0]\n",
    "n_purchase = events[step_4].shape[0]\n",
    "\n",
    "print('Entrantes:', n_login)\n",
    "print('Aparición de la pantalla del producto:', n_product_page)\n",
    "print('Aparicion de la pantalla del carrito de compras:', n_product_cart)\n",
    "print('Aparicion de la pantalla del pago:', n_purchase)"
   ]
  },
  {
   "cell_type": "code",
   "execution_count": null,
   "id": "f4ff57fa",
   "metadata": {},
   "outputs": [],
   "source": [
    "1 / 2593"
   ]
  },
  {
   "cell_type": "code",
   "execution_count": null,
   "id": "35a0e5ea",
   "metadata": {},
   "outputs": [],
   "source": [
    "Únicamente 0,03% de los usaurios realizó el recorrido desde el evento 1. \n",
    "Exploiremos otras formas en las que se hicieron compras."
   ]
  },
  {
   "cell_type": "code",
   "execution_count": null,
   "id": "75626686",
   "metadata": {},
   "outputs": [],
   "source": [
    "step_1 = ~events['product_page'].isna()\n",
    "step_2 = step_1 & (events['product_cart'] > events['product_page'])\n",
    "step_3 = step_2 & (events['purchase'] > events['product_cart'])\n",
    "\n",
    "n_product_page = events[step_1].shape[0]\n",
    "n_product_cart = events[step_2].shape[0]\n",
    "n_purchase = events[step_3].shape[0]\n",
    "\n",
    "print('Aparición de la pantalla del producto:', n_product_page)\n",
    "print('Aparicion de la pantalla del carrito de compras:', n_product_cart)\n",
    "print('Aparicion de la pantalla del pago:', n_purchase)"
   ]
  },
  {
   "cell_type": "code",
   "execution_count": null,
   "id": "78d7ce8e",
   "metadata": {},
   "outputs": [],
   "source": [
    "1/1632\n"
   ]
  },
  {
   "cell_type": "markdown",
   "id": "be27fa6d",
   "metadata": {},
   "source": [
    "\n",
    "Se puede observar que de los 1632 usuarios que empezaron el recorrido desde otro evento, solo 13 terminaron el pedido, lo cual equivale al 0.06% de usuarios. No muchos completaron el recorrido"
   ]
  },
  {
   "cell_type": "code",
   "execution_count": null,
   "id": "0298f68c",
   "metadata": {},
   "outputs": [],
   "source": [
    "step_1 = ~events['product_cart'].isna()\n",
    "step_2 = step_1 & (events['purchase'] > events['product_cart'])\n",
    "\n",
    "n_product_cart = events[step_1].shape[0]\n",
    "n_purchase = events[step_2].shape[0]\n",
    "\n",
    "print('Aparicion de la pantalla del carrito de compras:', n_product_cart)\n",
    "print('Aparicion de la pantalla del pago:', n_purchase)"
   ]
  },
  {
   "cell_type": "code",
   "execution_count": null,
   "id": "2092a3e7",
   "metadata": {},
   "outputs": [],
   "source": [
    "3/773"
   ]
  },
  {
   "cell_type": "markdown",
   "id": "6c6fcae9",
   "metadata": {},
   "source": [
    "\n",
    "Se puede observar que de los 773 usuarios que empezaron el recorrido desde el penúltimo evento, solo 3 terminaron el pedido, lo cual equivale al 0.4% de usuarios. De la misma forma, No muchos completaron el recorrido."
   ]
  },
  {
   "cell_type": "code",
   "execution_count": null,
   "id": "136b0811",
   "metadata": {},
   "outputs": [],
   "source": []
  },
  {
   "cell_type": "code",
   "execution_count": null,
   "id": "8f3c86f8",
   "metadata": {},
   "outputs": [],
   "source": []
  },
  {
   "cell_type": "code",
   "execution_count": null,
   "id": "6e3336c1",
   "metadata": {},
   "outputs": [],
   "source": []
  },
  {
   "cell_type": "code",
   "execution_count": null,
   "id": "ed0d1160",
   "metadata": {},
   "outputs": [],
   "source": []
  },
  {
   "cell_type": "markdown",
   "id": "e9a0d3c1",
   "metadata": {},
   "source": [
    "Estudiar la conversión en las diferentes etapadas del embudo."
   ]
  },
  {
   "cell_type": "markdown",
   "id": "7fca0f2f",
   "metadata": {},
   "source": [
    "¿El número de eventos por usuario está distribuido equitativamente entre las muestras?"
   ]
  },
  {
   "cell_type": "code",
   "execution_count": null,
   "id": "dfce5937",
   "metadata": {},
   "outputs": [],
   "source": [
    "new_test_data['group'].value_counts()"
   ]
  },
  {
   "cell_type": "code",
   "execution_count": null,
   "id": "fdceb27f",
   "metadata": {},
   "outputs": [],
   "source": [
    "new_test_data.shape[0]"
   ]
  },
  {
   "cell_type": "markdown",
   "id": "2524bc79",
   "metadata": {},
   "source": [
    " \n",
    "En el registro de las pruebas hay 16959 eventos registrados, y el número en ambas muestras no esta distribuido equitativaente siendo la prueba A con el mayor número de eventos registrados, con una amplia diferencia de la prueba B."
   ]
  },
  {
   "cell_type": "markdown",
   "id": "ff6bf146",
   "metadata": {},
   "source": [
    "¿Hay usuarios que estén presentes en ambas muestras?"
   ]
  },
  {
   "cell_type": "code",
   "execution_count": null,
   "id": "c8d92506",
   "metadata": {},
   "outputs": [],
   "source": [
    "unique_A_user = new_test_data.query('group == \"A\"')['user_id'].unique()\n",
    "unique_B_user = new_test_data.query('group == \"B\"')['user_id'].unique()\n",
    "print(set(unique_B_user).issubset(set(unique_A_user)))"
   ]
  },
  {
   "cell_type": "code",
   "execution_count": null,
   "id": "dcefb1f8",
   "metadata": {},
   "outputs": [],
   "source": []
  },
  {
   "cell_type": "markdown",
   "id": "9a66fb1c",
   "metadata": {},
   "source": [
    "¿Cómo se distribuye el número de eventos entre los días?"
   ]
  },
  {
   "cell_type": "code",
   "execution_count": null,
   "id": "d9e929da",
   "metadata": {},
   "outputs": [],
   "source": [
    "new_test_data['day'] = new_test_data['event_dt'].dt.weekday\n",
    "new_test_data.head()"
   ]
  },
  {
   "cell_type": "code",
   "execution_count": null,
   "id": "943b9786",
   "metadata": {},
   "outputs": [],
   "source": [
    "\n",
    "new_test_data.hist(column=\"event_dt\", bins=10)\n",
    "plt.xticks(rotation=45)\n",
    "plt.show()"
   ]
  },
  {
   "cell_type": "code",
   "execution_count": null,
   "id": "4be32c62",
   "metadata": {},
   "outputs": [],
   "source": [
    "new_test_data['day'].value_counts().plot(kind='bar')\n"
   ]
  },
  {
   "cell_type": "markdown",
   "id": "a9226bf4",
   "metadata": {},
   "source": [
    "El día del 21 de diciembre del 2020 es donde más eventos estan distribuídos, asimismo, son los días domingos donde más ocurren estos eventos.\n",
    "\n",
    "Ahora los datos se encuentran listos para realizar las pruebas A/B y poder comprobar los cambios relacionados con la introducción de un sistema de recomendaciones mejorado."
   ]
  },
  {
   "cell_type": "markdown",
   "id": "4cb07ded",
   "metadata": {},
   "source": [
    "¿Hay alguna peculiaridad en los datos que hay que tener en cuenta antes de iniciar la prueba A/B?"
   ]
  },
  {
   "cell_type": "markdown",
   "id": "04afbbdd",
   "metadata": {},
   "source": [
    "# Evaluar los datos de la prueba A/B"
   ]
  },
  {
   "cell_type": "code",
   "execution_count": null,
   "id": "e3c67303",
   "metadata": {},
   "outputs": [],
   "source": [
    "¿Qué podemos decir sobre los resultados de la prueba A/B?"
   ]
  },
  {
   "cell_type": "code",
   "execution_count": null,
   "id": "d06d64dd",
   "metadata": {},
   "outputs": [],
   "source": []
  },
  {
   "cell_type": "code",
   "execution_count": null,
   "id": "53d7faf0",
   "metadata": {},
   "outputs": [],
   "source": [
    "Prueba Z para comprobar la diferencia estadística de proporciones."
   ]
  },
  {
   "cell_type": "markdown",
   "id": "4c3cd966",
   "metadata": {},
   "source": [
    "¿Qué puedes decir sobre los resultados de la prueba A/B según la diferencia estadítica de ambas proporciones? * "
   ]
  },
  {
   "cell_type": "code",
   "execution_count": null,
   "id": "de012a6c",
   "metadata": {},
   "outputs": [],
   "source": [
    "conversions = new_test_data[['user_id', 'group']].drop_duplicates()\n",
    "converted = pd.DataFrame(data={\n",
    "    \"user_id\": new_test_data[new_test_data[\"event_name\"] == \"purchase\"][\"user_id\"].unique(),\n",
    "    \"converted\": 1\n",
    "})\n",
    "conversions = conversions.merge(converted, on=\"user_id\", how=\"left\")\n",
    "conversions[\"converted\"] = conversions[\"converted\"].fillna(0)\n",
    "conversions.head()"
   ]
  },
  {
   "cell_type": "code",
   "execution_count": null,
   "id": "a9452400",
   "metadata": {},
   "outputs": [],
   "source": [
    "purchases = np.array([(conversions.query('group == \"A\" and converted == 1')['converted'].count()), \n",
    "                      conversions.query('group == \"B\" and converted == 1')['converted'].count()])\n",
    "leads = np.array([(conversions.query('group == \"A\"')['group'].count()), \n",
    "                  (conversions.query('group == \"B\"')['group'].count())])\n",
    "\n",
    "significance = 0.05\n",
    "p1 = purchases[0]/leads[0]\n",
    "p2 = purchases[1]/leads[1]\n",
    "p_combined = ((purchases[0]+purchases[1])/(leads[0]+leads[1]))\n",
    "difference = p1 - p2\n",
    "\n",
    "z_value = difference / mth.sqrt(p_combined * (1 - p_combined) * (1/leads[0]+1/leads[1]))\n",
    "\n",
    "distr = st.norm(0,1)\n",
    "\n",
    "p_value = (1 - distr.cdf(abs(z_value))) * 2\n",
    "\n",
    "print('p-value:', p_value)\n",
    "\n",
    "if (p_value < significance):\n",
    "    print('Rechazar la hipótesis nula: hay una diferencia significativa entre las proporciones.')\n",
    "else:\n",
    "    print('No se pudo rechazar la hipótesis nula: no hay razón para pensar que las proporciones son diferentes.')"
   ]
  },
  {
   "cell_type": "markdown",
   "id": "a79992dd",
   "metadata": {},
   "source": [
    "Se puede observar que no hay una diferencia estadística en ambas proporciones; esto quiere decir que los datos fueron correctamente ordenados.\n",
    "\n"
   ]
  },
  {
   "cell_type": "markdown",
   "id": "ec7cbc48",
   "metadata": {},
   "source": [
    "# Conclusión respecto a la etapa EDA y los resultados de la prueba"
   ]
  },
  {
   "cell_type": "markdown",
   "id": "898f0315",
   "metadata": {},
   "source": [
    "En este proyecto, se analizaron los 4 datsets, para observar los tipos, la cantidad de datos; y se realizaron distintas conversiones en algunos tipos de columnas al tipo correcto.\n",
    "\n",
    "Asimismo, en el registro de los datos no se encontraron datos duplicados; además se encontraon valores ausentes, pero esto ocurrió debido a que estos valores ausentes estaban relacionados con una columna, es decir, dependían de los datos de dicha columna.\n",
    "\n",
    "Para calcular la conversión de todos los eventos, se realizó un embudo de eventos para conocer el número de usuarios que pasan por cada etapa del evento, y llegan hasta la etapa final de los eventos; resultando en una conversión baja en cada etapa de los eventos. Asimismo, se encontró que es el día 21 de diciembre del 2020 donde más eventos ocurren.\n",
    "\n",
    "Se pudo observar que hay usuarios en ambos grupos, y que hay diferencias entre ambos grupos, es decir, hay usuarios únicos en el A que no estan presentes en el B. Esto quiere decir que los datos no fueron divididos correctamente.\n",
    "\n",
    "En este proyecto, no se ha especificado el nivel de significancia utilizado para probar las hipótesis estadísticas. Por lo tanto, se decidió establecer un nivel de significancia del 0.05.\n",
    "\n",
    "Por último, se pudo observar que en las pruebas de los grupos no se encontraron diferencias significativas en las proporciones en cada uno de los eventos; por lo tanto se puede concluir que los datos se encuentran correctamente ordenados.\n",
    "\n",
    "Como recomendación, se tendría que cenfocar más en el grupo de control A, ya que son los de mayor proporción y cantidad."
   ]
  },
  {
   "cell_type": "code",
   "execution_count": 19,
   "id": "dd5708f9",
   "metadata": {},
   "outputs": [
    {
     "ename": "NotImplementedError",
     "evalue": "more than two samples are not implemented yet",
     "output_type": "error",
     "traceback": [
      "\u001b[1;31m---------------------------------------------------------------------------\u001b[0m",
      "\u001b[1;31mNotImplementedError\u001b[0m                       Traceback (most recent call last)",
      "Cell \u001b[1;32mIn[19], line 28\u001b[0m\n\u001b[0;32m     25\u001b[0m count \u001b[38;5;241m=\u001b[39m event_data[\u001b[38;5;124m'\u001b[39m\u001b[38;5;124musers\u001b[39m\u001b[38;5;124m'\u001b[39m]\u001b[38;5;241m.\u001b[39mvalues\n\u001b[0;32m     26\u001b[0m nobs \u001b[38;5;241m=\u001b[39m event_data[\u001b[38;5;124m'\u001b[39m\u001b[38;5;124muser_id\u001b[39m\u001b[38;5;124m'\u001b[39m]\u001b[38;5;241m.\u001b[39mvalues\n\u001b[1;32m---> 28\u001b[0m stat, pval \u001b[38;5;241m=\u001b[39m proportions_ztest(count, nobs)\n\u001b[0;32m     29\u001b[0m \u001b[38;5;28mprint\u001b[39m(\u001b[38;5;124mf\u001b[39m\u001b[38;5;124m\"\u001b[39m\u001b[38;5;124mEvento: \u001b[39m\u001b[38;5;132;01m{\u001b[39;00mevent\u001b[38;5;132;01m}\u001b[39;00m\u001b[38;5;124m, Estadístico: \u001b[39m\u001b[38;5;132;01m{\u001b[39;00mstat\u001b[38;5;132;01m}\u001b[39;00m\u001b[38;5;124m, p-valor: \u001b[39m\u001b[38;5;132;01m{\u001b[39;00mpval\u001b[38;5;132;01m}\u001b[39;00m\u001b[38;5;124m\"\u001b[39m)\n",
      "File \u001b[1;32mC:\\ProgramData\\anaconda3\\Lib\\site-packages\\statsmodels\\stats\\proportion.py:1017\u001b[0m, in \u001b[0;36mproportions_ztest\u001b[1;34m(count, nobs, value, alternative, prop_var)\u001b[0m\n\u001b[0;32m   1015\u001b[0m \u001b[38;5;28;01melse\u001b[39;00m:\n\u001b[0;32m   1016\u001b[0m     msg \u001b[38;5;241m=\u001b[39m \u001b[38;5;124m'\u001b[39m\u001b[38;5;124mmore than two samples are not implemented yet\u001b[39m\u001b[38;5;124m'\u001b[39m\n\u001b[1;32m-> 1017\u001b[0m     \u001b[38;5;28;01mraise\u001b[39;00m \u001b[38;5;167;01mNotImplementedError\u001b[39;00m(msg)\n\u001b[0;32m   1019\u001b[0m p_pooled \u001b[38;5;241m=\u001b[39m np\u001b[38;5;241m.\u001b[39msum(count) \u001b[38;5;241m*\u001b[39m \u001b[38;5;241m1.\u001b[39m \u001b[38;5;241m/\u001b[39m np\u001b[38;5;241m.\u001b[39msum(nobs)\n\u001b[0;32m   1021\u001b[0m nobs_fact \u001b[38;5;241m=\u001b[39m np\u001b[38;5;241m.\u001b[39msum(\u001b[38;5;241m1.\u001b[39m \u001b[38;5;241m/\u001b[39m nobs)\n",
      "\u001b[1;31mNotImplementedError\u001b[0m: more than two samples are not implemented yet"
     ]
    }
   ],
   "source": [
    "import pandas as pd\n",
    "from statsmodels.stats.proportion import proportions_ztest\n",
    "\n",
    "# Filtrar eventos relevantes\n",
    "relevant_events = events_data[events_data['event_name'].isin(['visit_page', 'add_to_cart', 'purchase'])]\n",
    "\n",
    "# Unir con el grupo del usuario\n",
    "merged_data = relevant_events.merge(test_data, on='user_id')\n",
    "\n",
    "# Agregar conversiones por grupo y evento\n",
    "conversion_rates = (\n",
    "    merged_data.groupby(['ab_test', 'group', 'event_name'])\n",
    "    .agg(users=('user_id', 'nunique'))\n",
    "    .reset_index()\n",
    ")\n",
    "\n",
    "# Calcular tasas de conversión\n",
    "total_users = test_data.groupby(['ab_test', 'group'])['user_id'].nunique().reset_index()\n",
    "conversion_rates = conversion_rates.merge(total_users, on=['ab_test', 'group'])\n",
    "conversion_rates['conversion_rate'] = conversion_rates['users'] / conversion_rates['user_id']\n",
    "\n",
    "# Comparar tasas con Z-test para cada evento\n",
    "for event in ['visit_page', 'add_to_cart', 'purchase']:\n",
    "    event_data = conversion_rates[conversion_rates['event_name'] == event]\n",
    "    count = event_data['users'].values\n",
    "    nobs = event_data['user_id'].values\n",
    "    \n",
    "    stat, pval = proportions_ztest(count, nobs)\n",
    "    print(f\"Evento: {event}, Estadístico: {stat}, p-valor: {pval}\")\n",
    "\n",
    "    "
   ]
  },
  {
   "cell_type": "code",
   "execution_count": null,
   "id": "16d72289",
   "metadata": {},
   "outputs": [],
   "source": []
  }
 ],
 "metadata": {
  "kernelspec": {
   "display_name": "Python 3 (ipykernel)",
   "language": "python",
   "name": "python3"
  },
  "language_info": {
   "codemirror_mode": {
    "name": "ipython",
    "version": 3
   },
   "file_extension": ".py",
   "mimetype": "text/x-python",
   "name": "python",
   "nbconvert_exporter": "python",
   "pygments_lexer": "ipython3",
   "version": "3.11.5"
  }
 },
 "nbformat": 4,
 "nbformat_minor": 5
}
